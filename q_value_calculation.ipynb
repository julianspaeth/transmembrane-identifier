{
 "cells": [
  {
   "cell_type": "code",
   "execution_count": 1,
   "metadata": {},
   "outputs": [],
   "source": [
    "from Bio.PDB import *\n",
    "from Bio.PDB.PDBExceptions import PDBConstructionWarning\n",
    "from geometry import position_structure\n",
    "import freesasa\n",
    "import numpy as np\n",
    "import matplotlib.pyplot as plt\n",
    "\n",
    "import sys\n",
    "import argparse\n",
    "import warnings"
   ]
  },
  {
   "cell_type": "code",
   "execution_count": 2,
   "metadata": {},
   "outputs": [],
   "source": [
    "def parse_PDB(filepath):\n",
    "    pdb_parser = PDBParser()\n",
    "\n",
    "    with warnings.catch_warnings():\n",
    "        warnings.simplefilter('ignore', PDBConstructionWarning)\n",
    "        structure = pdb_parser.get_structure('protein', filepath)\n",
    "\n",
    "    name = structure.header['name']\n",
    "    head = structure.header['head']\n",
    "    filter_words_name = ['pilus', 'pili', 'Pilus', 'Pili', 'PILUS', 'PILI', 'virus', 'Virus', 'VIRUS']\n",
    "    filter_words_head = ['dna', 'DNA', 'rna', 'RNA']\n",
    "\n",
    "    if any(word in name for word in filter_words_name) or any(word in head for word in filter_words_head):\n",
    "        print('Given structure is either a Pilus or Virus protein or contains nucleotides.')\n",
    "        print('Will not be analysed.')\n",
    "        return None\n",
    "\n",
    "    models = [model for model in structure]\n",
    "    if len(models) > 1:\n",
    "        model_number = input(str(len(models))+\" models found. Please enter model id (1-index): \")\n",
    "        model = models[int(model_number)-1]\n",
    "    else:\n",
    "        model = models[0]\n",
    "    return model"
   ]
  },
  {
   "cell_type": "code",
   "execution_count": 3,
   "metadata": {},
   "outputs": [],
   "source": [
    "def position_model(model):\n",
    "    max_x = -100000\n",
    "    max_y = -100000\n",
    "    max_z = -100000\n",
    "    min_x = 100000\n",
    "    min_y = 100000\n",
    "    min_z = 100000\n",
    "    \n",
    "    for chain in model:\n",
    "        for residue in chain:\n",
    "            for atom in residue:\n",
    "                coordinates = atom.coord\n",
    "                if coordinates[0] > max_x:\n",
    "                    max_x = coordinates[0]\n",
    "                if coordinates[1] > max_y:\n",
    "                    max_y = coordinates[1]\n",
    "                if coordinates[2] > max_z:\n",
    "                    max_z = coordinates[2]\n",
    "                if coordinates[0] < min_x:\n",
    "                    min_x = coordinates[0]\n",
    "                if coordinates[1] < min_y:\n",
    "                    min_y = coordinates[1]\n",
    "                if coordinates[2] < min_z:\n",
    "                    min_z = coordinates[2]\n",
    "    \n",
    "    model.transform(rot=rotaxis2m(theta=0, vector=Vector(1,0,0)), \n",
    "                    tran=-0.5*np.array([max_x + min_x, max_y + min_y, max_z + min_z]))\n",
    "    ranges = np.array([max_x - 0.5*(max_x + min_x), max_y - 0.5*(max_y + min_y), max_z - 0.5*(max_z + min_z)])\n",
    "\n",
    "    return model, ranges"
   ]
  },
  {
   "cell_type": "code",
   "execution_count": 4,
   "metadata": {},
   "outputs": [],
   "source": [
    "def make_slices(model, z_min):\n",
    "    slices = {}\n",
    "    for i in range(z_min, -z_min):\n",
    "        slices[i] = []\n",
    "    \n",
    "    \n",
    "    for chain in model:\n",
    "        for residue in chain:\n",
    "            for atom in residue:\n",
    "                coordinates = atom.coord\n",
    "                slices[int(np.floor(atom.coord[2]))].append(atom)\n",
    "    \n",
    "    return slices"
   ]
  },
  {
   "cell_type": "code",
   "execution_count": 5,
   "metadata": {},
   "outputs": [],
   "source": [
    "model = parse_PDB('./structures/pdb1u9j.pdb')\n",
    "model, ranges = position_model(model)\n",
    "\n",
    "z_min = int(round(-ranges[2]))\n",
    "\n",
    "slices = make_slices(model, z_min)\n",
    "\n"
   ]
  },
  {
   "cell_type": "code",
   "execution_count": 6,
   "metadata": {},
   "outputs": [],
   "source": [
    "def rectangle(slice_list, z):\n",
    "    max_x = -1000\n",
    "    min_x = 1000\n",
    "    max_y = -1000\n",
    "    min_y = 1000\n",
    "    for atom in slice_list:\n",
    "        coordinates = atom.coord\n",
    "        if coordinates[0] > max_x:\n",
    "            max_x = coordinates[0]\n",
    "        if coordinates[0] < min_x:\n",
    "            min_x = coordinates[0]\n",
    "        if coordinates[1] > max_y:\n",
    "            max_y = coordinates[1]\n",
    "        if coordinates[1] < min_y:\n",
    "            min_y = coordinates[1]\n",
    "    \n",
    "    print(max_x, min_x, max_y, min_y)\n",
    "    \n",
    "    points = []    \n",
    "    offset = 1\n",
    "    \n",
    "    for x in np.linspace(min_x-offset, max_x+offset, int(len(slice_list)/3)):\n",
    "        points.append(np.array([x, min_y-offset, z]))\n",
    "        points.append(np.array([x, max_y+offset, z]))\n",
    "    for y in np.linspace(min_y-offset, max_y+offset, int(len(slice_list)/3)):\n",
    "        points.append(np.array([min_x-offset, y, z]))\n",
    "        points.append(np.array([max_x+offset, y, z]))  \n",
    "    \n",
    "    return points"
   ]
  },
  {
   "cell_type": "code",
   "execution_count": 43,
   "metadata": {},
   "outputs": [],
   "source": [
    "def get_outer_atoms(slice_list, rectangle):\n",
    "    outer_atoms = set()\n",
    "    outer_atom_ids = []\n",
    "    \n",
    "    for point in rectangle:\n",
    "        current_dists = []\n",
    "        for atom in slice_list:            \n",
    "            current_dists.append(np.linalg.norm(point-atom.coord))\n",
    "        \n",
    "        outer_atoms.add(slice_list[np.argmin(current_dists)])\n",
    "    \n",
    "    for atom in list(outer_atoms):\n",
    "        outer_atom_ids.append(atom.serial_number)\n",
    "    \n",
    "    \n",
    "    return outer_atoms, outer_atom_ids"
   ]
  },
  {
   "cell_type": "code",
   "execution_count": 44,
   "metadata": {},
   "outputs": [
    {
     "name": "stdout",
     "output_type": "stream",
     "text": [
      "28.118995666503906 -26.449003219604492 23.724002838134766 -19.945999145507812\n"
     ]
    },
    {
     "data": {
      "text/plain": [
       "[-30, 30, -30, 30]"
      ]
     },
     "execution_count": 44,
     "metadata": {},
     "output_type": "execute_result"
    },
    {
     "data": {
      "image/png": "[encoded data removed]",
      "text/plain": [
       "<Figure size 504x504 with 1 Axes>"
      ]
     },
     "metadata": {},
     "output_type": "display_data"
    }
   ],
   "source": [
    "xs = []\n",
    "ys = []\n",
    "for atom in slices[0]:\n",
    "    xs.append(atom.coord[0])\n",
    "    ys.append(atom.coord[1])\n",
    "    \n",
    "\n",
    "xs_rect = []\n",
    "ys_rect = []\n",
    "points = rectangle(slices[0], 0 + 0.5)\n",
    "\n",
    "for point in points:\n",
    "    xs_rect.append(point[0])\n",
    "    ys_rect.append(point[1])\n",
    "    \n",
    "    \n",
    "xs_out = []\n",
    "ys_out = []\n",
    "outer_atoms, outer_atom_ids = get_outer_atoms(slices[0], points)\n",
    "\n",
    "for atom in list(outer_atoms):\n",
    "    xs_out.append(atom.coord[0])\n",
    "    ys_out.append(atom.coord[1])\n",
    "    \n",
    "    \n",
    "plt.figure(figsize=(7,7))\n",
    "plt.scatter(xs,ys, color=\"blue\")\n",
    "plt.scatter(xs_rect, ys_rect, color=\"red\")\n",
    "plt.scatter(xs_out, ys_out, color=\"green\", s = 200, alpha=0.5)\n",
    "plt.axis([-30,30,-30,30])"
   ]
  },
  {
   "cell_type": "code",
   "execution_count": 62,
   "metadata": {},
   "outputs": [],
   "source": [
    "def hydrophobic_factor(slice_list, outer_atom_ids):\n",
    "    atom_radii = {'C':1.80, 'N':1.60, 'O':1.40, 'S':1.85}\n",
    "    hydrophobic = ['PHE', 'GLY', 'ILE', 'LEU', 'MET', 'VAL', 'TRP', 'TYR']\n",
    "    hydrophilic = ['ALA', 'CYS', 'ASP', 'GLU', 'ASN', 'GLN', 'HIS', 'LYS', 'PRO', 'ARG', 'SER', 'THR']\n",
    "    coord_list = []\n",
    "    radii_list = []\n",
    "    for atom in slices[0]:\n",
    "        coord_list.extend(atom.coord)\n",
    "        radii_list.append(atom_radii[atom.element])\n",
    "        \n",
    "    sasa_result = freesasa.calcCoord(coord_list, radii_list)\n",
    "    \n",
    "    total_sasa = 0\n",
    "    hydrophobic_sasa = 0\n",
    "    \n",
    "    for i, atom in enumerate(slices[0]):\n",
    "        if atom.serial_number in outer_atom_ids:\n",
    "            res = atom.parent.resname\n",
    "            if res in hydrophobic or res in hydrophilic:\n",
    "                total_sasa += sasa_result.atomArea(i)\n",
    "                if res in hydrophobic:\n",
    "                    hydrophobic_sasa += sasa_result.atomArea(i)\n",
    "                    \n",
    "    return hydrophobic_sasa / total_sasa\n",
    "    print(total_sasa, hydrophobic_sasa)"
   ]
  },
  {
   "cell_type": "code",
   "execution_count": 63,
   "metadata": {},
   "outputs": [
    {
     "name": "stdout",
     "output_type": "stream",
     "text": [
      "1564.9523801275989 402.81449689265736\n"
     ]
    }
   ],
   "source": [
    "\n",
    "hydrophobic_factor(slices[0], outer_atom_ids)\n",
    "    "
   ]
  },
  {
   "cell_type": "code",
   "execution_count": 112,
   "metadata": {},
   "outputs": [],
   "source": [
    "#for atom in slices[0]:\n",
    "#    print(atom.parent.id[1], atom.parent.resname, atom.parent.full_id)\n",
    "\n",
    "residue_dict = {}\n",
    "\n",
    "for chain in model:\n",
    "    residue_dict[chain.id] = {}\n",
    "    for residue in chain:\n",
    "        #residue_dict[chain.id]\n",
    "        if residue.id[0] == ' ':\n",
    "            residue_dict[chain.id][residue.id[1]] = residue['CA']"
   ]
  },
  {
   "cell_type": "code",
   "execution_count": 115,
   "metadata": {},
   "outputs": [
    {
     "data": {
      "text/plain": [
       "array([-6.7060051 , -7.71899796,  0.36499786])"
      ]
     },
     "execution_count": 115,
     "metadata": {},
     "output_type": "execute_result"
    }
   ],
   "source": [
    "residue_dict['A'][319-3].coord\n",
    "residue_dict['A'][319].coord\n",
    "residue_dict['A'][319+3].coord"
   ]
  },
  {
   "cell_type": "code",
   "execution_count": 133,
   "metadata": {},
   "outputs": [],
   "source": [
    "def get_unique_residues_from_slice(slice_list):\n",
    "    ids = set()\n",
    "    for atom in slice_list:\n",
    "        if atom.parent.id[0] == ' ':\n",
    "            ids.add((atom.parent.parent.id, atom.parent.id[1]))\n",
    "    return list(ids)"
   ]
  },
  {
   "cell_type": "code",
   "execution_count": 135,
   "metadata": {},
   "outputs": [],
   "source": [
    "residue_ids = get_unique_residues_from_slice(slices[0])"
   ]
  },
  {
   "cell_type": "code",
   "execution_count": 139,
   "metadata": {},
   "outputs": [
    {
     "name": "stdout",
     "output_type": "stream",
     "text": [
      "0.5216049382716049\n"
     ]
    }
   ],
   "source": [
    "straight_count = 0\n",
    "turn_count = 0\n",
    "endchain_count = 0\n",
    "\n",
    "vector = np.array([0,0,1])\n",
    "\n",
    "for chain, resi in residue_ids:\n",
    "    try:\n",
    "        prev_res = residue_dict[chain][resi-3].coord\n",
    "    except KeyError:\n",
    "        endchain_count += 1\n",
    "        \n",
    "    curr_res = residue_dict[chain][resi].coord\n",
    "    \n",
    "    try:\n",
    "        next_res = residue_dict[chain][resi+3].coord\n",
    "    except KeyError:\n",
    "        endchain_count += 1\n",
    "        \n",
    "    prev_value = np.dot(vector, prev_res)\n",
    "    curr_value = np.dot(vector, curr_res)\n",
    "    next_value = np.dot(vector, next_res)\n",
    "    \n",
    "    if (prev_value < curr_value and curr_value < next_value) or (prev_value > curr_value and curr_value > next_value):\n",
    "        straight_count += 1\n",
    "    else:\n",
    "        turn_count += 1\n",
    "\n",
    "straightness_factor = straight_count / len(residue_ids)\n",
    "turn_factor = 1 - (turn_count / len(residue_ids))\n",
    "endchain_factor = 1 - (endchain_count / len(residue_ids))\n",
    "\n",
    "structure_factor = straightness_factor * turn_factor * endchain_factor\n",
    "print(structure_factor)"
   ]
  },
  {
   "cell_type": "code",
   "execution_count": null,
   "metadata": {},
   "outputs": [],
   "source": [
    "\n",
    "\n",
    "\n",
    "\n"
   ]
  }
 ],
 "metadata": {
  "kernelspec": {
   "display_name": "Python 3",
   "language": "python",
   "name": "python3"
  },
  "language_info": {
   "codemirror_mode": {
    "name": "ipython",
    "version": 3
   },
   "file_extension": ".py",
   "mimetype": "text/x-python",
   "name": "python",
   "nbconvert_exporter": "python",
   "pygments_lexer": "ipython3",
   "version": "3.6.5"
  }
 },
 "nbformat": 4,
 "nbformat_minor": 2
}
