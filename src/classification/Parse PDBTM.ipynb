{
 "cells": [
  {
   "cell_type": "code",
   "execution_count": 70,
   "metadata": {},
   "outputs": [],
   "source": [
    "import xml.etree.ElementTree as ET\n",
    "\n",
    "class PDBTM:\n",
    "    def __init__(self, id = str, chains = []): \n",
    "        self.id = id\n",
    "        self.chains = chains\n",
    "    \n",
    "class Chain:\n",
    "    def __init__(self, id = str, num_tm = int, typ = str, seq = str, regions = []): \n",
    "        self.id = id\n",
    "        self.num_tm = num_tm\n",
    "        self.typ = typ\n",
    "        self.seq = seq\n",
    "        self.regions = regions\n",
    "    \n",
    "class Region:\n",
    "    def __init__(self, seq_beg = int, pdb_beg = int, seq_end = int, pdb_end = int, typ = str):\n",
    "        self.seq_beg = seq_beg\n",
    "        self.pdb_beg = pdb_beg\n",
    "        self.seq_end = seq_end\n",
    "        self.pdb_end = pdb_end\n",
    "        self.typ = typ"
   ]
  },
  {
   "cell_type": "code",
   "execution_count": 71,
   "metadata": {},
   "outputs": [],
   "source": [
    "import os\n",
    "from shutil import copyfile\n",
    "\n",
    "def filter_for_tmps(path):\n",
    "    counter = 0\n",
    "    for root, dirs, files in os.walk(path):\n",
    "        for name in files:\n",
    "            if name.endswith(\".xml\"): \n",
    "                path = os.path.join(root,name)\n",
    "                pdbtm_xml = ET.parse(path) \n",
    "                pdbtm_root = pdbtm_xml.getroot()\n",
    "                is_tmp = pdbtm_root.attrib.get('TMP')\n",
    "                if is_tmp == 'yes':\n",
    "                    print(\"Copy\", pdbtm_root.attrib.get(\"ID\"))\n",
    "                    copyfile(path, os.path.join(\"pdbtm_xmls\",name))\n",
    "                    counter = counter + 1\n",
    "                        \n",
    "    return counter\n",
    "                \n",
    "#number_of_tms = filter_for_tmps(\"pdbtm/database\")    \n",
    "#print(number_of_tms)"
   ]
  },
  {
   "cell_type": "code",
   "execution_count": 72,
   "metadata": {},
   "outputs": [],
   "source": [
    "def parse_pdbtm_xmls(paths):\n",
    "    '''\n",
    "    Parses PDBTM XML files to a list od PDBTM Objects.\n",
    "    A PDBTM Object contains the PDB ID as well as a list of Chain objects. \n",
    "    A Chain Object contains the chain ID, the tm number, the type, the sequence and a list of Region objects.\n",
    "    A Region object contains the begin and end indices of the sequence and the pdb file, as well as the type.\n",
    "    '''\n",
    "    ns = {'pdbtm': 'http://pdbtm.enzim.hu'}\n",
    "    pdbtms = []\n",
    "    for path in paths:\n",
    "        pdbtm_xml = ET.parse(path) \n",
    "        pdbtm_root = pdbtm_xml.getroot()\n",
    "        pdbtm_id = pdbtm_root.attrib.get('ID')\n",
    "        \n",
    "        if pdbtm_root.attrib.get('TMP') == 'yes':\n",
    "            chains = []\n",
    "            for chain_xml in pdbtm_root.findall('pdbtm:CHAIN', ns):\n",
    "                chain_id = chain_xml.attrib.get('CHAINID')\n",
    "                num_tm = chain_xml.attrib.get('NUM_TM')\n",
    "                typ = chain_xml.attrib.get('TYPE')\n",
    "                seq = chain_xml.find('pdbtm:SEQ', ns)\n",
    "\n",
    "                regions = []\n",
    "                for region_xml in chain_xml.findall('pdbtm:REGION', ns):\n",
    "                    seq_beg = region_xml.attrib.get('seq_beg')\n",
    "                    pdb_beg = region_xml.attrib.get('pdb_beg')\n",
    "                    seq_end = region_xml.attrib.get('seq_end')\n",
    "                    pdb_end = region_xml.attrib.get('pdb_end')\n",
    "                    typ_region = region_xml.attrib.get('type')\n",
    "                    region = Region(seq_beg, pdb_beg, seq_end, pdb_end, typ_region)\n",
    "                    regions.append(region)\n",
    "            chain = Chain(chain_id, num_tm, typ, seq.text.replace(\" \", \"\").replace(\"\\n\", \"\"), regions)\n",
    "            chains.append(chain) \n",
    "\n",
    "            pdbtm = PDBTM(pdbtm_id, chains)\n",
    "            pdbtms.append(pdbtm)\n",
    "        \n",
    "        else:\n",
    "            print(pdbtm_id, \"is no TMP and was ignored.\")\n",
    "    \n",
    "    return pdbtms"
   ]
  },
  {
   "cell_type": "code",
   "execution_count": 73,
   "metadata": {},
   "outputs": [
    {
     "name": "stdout",
     "output_type": "stream",
     "text": [
      "3284\n"
     ]
    }
   ],
   "source": [
    "paths = []\n",
    "for file in os.listdir(\"pdbtm_xmls\"):\n",
    "    if file.endswith(\".xml\"):\n",
    "        path = os.path.join(\"pdbtm_xmls\", file)\n",
    "        paths.append(path.strip())        \n",
    "pdbtms = parse_pdbtm_xmls(paths)\n",
    "print(len(pdbtms))\n",
    "    "
   ]
  },
  {
   "cell_type": "code",
   "execution_count": 74,
   "metadata": {},
   "outputs": [
    {
     "name": "stdout",
     "output_type": "stream",
     "text": [
      "140824\n"
     ]
    }
   ],
   "source": [
    "def get_list_of_transmembrane_pdbids():\n",
    "    pdbtms = []\n",
    "    for file in os.listdir(\"pdbtm_xmls\"):\n",
    "        if file.endswith(\".xml\"):\n",
    "            pdbid = file.replace(\".xml\", \"\")\n",
    "            pdbtms.append(pdbid)\n",
    "    \n",
    "    return pdbtms\n",
    "\n",
    "print(len(get_list_of_all_pdbs()))"
   ]
  },
  {
   "cell_type": "code",
   "execution_count": 55,
   "metadata": {},
   "outputs": [],
   "source": [
    "helix_pdbtms = []\n",
    "for pdbtm in pdbtms:\n",
    "    for chain in pdbtm.chains:\n",
    "        if chain.typ == \"alpha\":\n",
    "            for region in chain.regions:\n",
    "                if region.typ == \"H\":\n",
    "                    helix = chain.seq[int(region.seq_beg):int(region.seq_end)]\n",
    "                    helix_pdbtms.append(helix)"
   ]
  },
  {
   "cell_type": "code",
   "execution_count": 56,
   "metadata": {},
   "outputs": [],
   "source": [
    "import collections\n",
    "pdbtm_helices_aas = collections.Counter()\n",
    "for helix in helix_pdbtms:\n",
    "    pdbtm_helices_aas = pdbtm_helices_aas + collections.Counter(helix)"
   ]
  },
  {
   "cell_type": "code",
   "execution_count": 57,
   "metadata": {},
   "outputs": [
    {
     "data": {
      "text/plain": [
       "<function matplotlib.pyplot.show(*args, **kw)>"
      ]
     },
     "execution_count": 57,
     "metadata": {},
     "output_type": "execute_result"
    }
   ],
   "source": [
    "import matplotlib.pyplot as plt\n",
    "import operator\n",
    "\n",
    "#number_of_aas = 0\n",
    "#for key in pdbtm_helices_aas.keys():\n",
    "#    number_of_aas = number_of_aas + pdbtm_helices_aas.get(key)\n",
    "    \n",
    "#percentage = {}\n",
    "#for key in pdbtm_helices_aas.keys():\n",
    "#    percentage[key] = round(pdbtm_helices_aas.get(key)/number_of_aas*100,2)\n",
    "\n",
    "amino_acids_tm_helices = {\n",
    "    'L': 16.52,\n",
    "    'A': 11.39,\n",
    "    'I': 11.14,\n",
    "    'V': 11.12,\n",
    "    'G': 8.3,\n",
    "    'F': 8.27,\n",
    "    'T': 5.21,\n",
    "    'S': 5.0,\n",
    "    'M': 3.66,\n",
    "    'Y': 3.59,\n",
    "    'W': 2.55,\n",
    "    'P': 2.48,\n",
    "    'N': 1.91,\n",
    "    'C': 1.51,\n",
    "    'R': 1.48,\n",
    "    'Q': 1.23,\n",
    "    'E': 1.21,\n",
    "    'D': 1.09,\n",
    "    'K': 1.08,\n",
    "    'H': 0.7,\n",
    "    'U': 0.55}\n",
    "\n",
    "f1 = plt.figure()\n",
    "plt.bar(range(len(amino_acids_tm_helices)), list(amino_acids_tm_helices.values()), align='center', color='red')\n",
    "plt.title(\"Amino Acid Frequency in Transmembrane Helices\")\n",
    "plt.xticks(range(len(amino_acids_tm_helices)), list(amino_acids_tm_helices.keys()))\n",
    "plt.xlabel(\"Amino Acids\")\n",
    "plt.ylabel(\"Frequency (%)\")\n",
    "f1.savefig('figures/aa_tm_helix_frequency.pdf')\n",
    "f1.savefig('figures/aa_tm_helix_frequency.png')\n",
    "plt.ylim([0,20])\n",
    "plt.show   \n",
    "\n",
    "amino_acids_helices = {\n",
    "    \"L\" : 11.2,\n",
    "    \"A\" : 10.7,\n",
    "    \"E\" : 8.0,\n",
    "    \"V\" : 7.1,\n",
    "    \"I\" : 6.0,\n",
    "    \"K\" : 5.9,\n",
    "    \"R\" : 5.9,\n",
    "    \"S\" : 5.4,\n",
    "    \"G\" : 5.2,\n",
    "    \"D\" : 5.0,\n",
    "    \"T\" : 4.7,\n",
    "    \"F\" : 4.1,\n",
    "    \"Q\" : 4.0,\n",
    "    \"Y\" : 3.3,\n",
    "    \"N\" : 3.2,\n",
    "    \"M\" : 2.9,\n",
    "    \"P\" : 2.6,\n",
    "    \"H\" : 2.0,\n",
    "    \"W\" : 1.4,\n",
    "    \"C\" : 1.4\n",
    "} \n",
    "\n",
    "f2 = plt.figure()\n",
    "plt.bar(range(len(amino_acids_helices)), list(amino_acids_helices.values()), align='center', color='darkblue')\n",
    "plt.title(\"Amino Acid Frequency in Helices\")\n",
    "plt.xticks(range(len(amino_acids_helices)), list(amino_acids_helices.keys()))\n",
    "plt.xlabel(\"Amino Acids\")\n",
    "plt.ylabel(\"Frequency (%)\")\n",
    "plt.ylim([0,20])\n",
    "f2.savefig('figures/aa_helix_frequency.pdf')\n",
    "f2.savefig('figures/aa_helix_frequency.png')\n",
    "plt.show  \n",
    "\n",
    "amino_acids_helices_same_sort = {\n",
    "    \"L\" : 11.2,\n",
    "    \"A\" : 10.7,\n",
    "    \"I\" : 6.0,\n",
    "    \"V\" : 7.1,\n",
    "    \"G\" : 5.2,\n",
    "    \"F\" : 4.1,\n",
    "    \"T\" : 4.7,    \n",
    "    \"S\" : 5.4,\n",
    "    \"M\" : 2.9,\n",
    "    \"Y\" : 3.3,    \n",
    "    \"W\" : 1.4,    \n",
    "    \"P\" : 2.6,\n",
    "    \"N\" : 3.2,\n",
    "    \"C\" : 1.4,\n",
    "    \"R\" : 5.9,    \n",
    "    \"Q\" : 4.0,\n",
    "    \"E\" : 8.0,    \n",
    "    \"D\" : 5.0,    \n",
    "    \"K\" : 5.9,\n",
    "    \"H\" : 2.0,\n",
    "    \"U\" : 0\n",
    "} \n",
    "\n",
    "f3 = plt.figure()\n",
    "plt.bar(range(len(amino_acids_helices_same_sort)), list(amino_acids_helices_same_sort.values()), align='center', color='darkblue')\n",
    "plt.bar(range(len(amino_acids_tm_helices)), list(amino_acids_tm_helices.values()), align='center', color='red')\n",
    "plt.xticks(range(len(amino_acids_tm_helices)), list(amino_acids_tm_helices.keys()))\n",
    "plt.title(\"Comparison of Amino Acid Frequency\")\n",
    "plt.legend([\"Helices\", \"Transmembrane Helices\"])\n",
    "plt.xlabel(\"Amino Acids\")\n",
    "plt.ylabel(\"Frequency (%)\")\n",
    "plt.ylim([0,20])\n",
    "f3.savefig('figures/comparison_tm_back.pdf')\n",
    "f3.savefig('figures/comparison_tm_back.png')\n",
    "plt.show  \n",
    "\n",
    "f4 = plt.figure()\n",
    "plt.bar(range(len(amino_acids_tm_helices)), list(amino_acids_tm_helices.values()), align='center', color='red')\n",
    "plt.bar(range(len(amino_acids_helices_same_sort)), list(amino_acids_helices_same_sort.values()), align='center', color='darkblue')\n",
    "plt.xticks(range(len(amino_acids_tm_helices)), list(amino_acids_tm_helices.keys()))\n",
    "plt.title(\"Comparison of Amino Acid Frequency\")\n",
    "plt.legend([\"Transmembrane Helices\", \"Helices\"])\n",
    "plt.xlabel(\"Amino Acids\")\n",
    "plt.ylabel(\"Frequency (%)\")\n",
    "plt.ylim([0,20])\n",
    "f4.savefig('figures/comparison_tm_front.pdf')\n",
    "f4.savefig('figures/comparison_tm_front.png')\n",
    "plt.show  \n",
    "\n",
    "f5 = plt.figure()\n",
    "plt.bar(range(len(amino_acids_helices_same_sort)), list(amino_acids_helices_same_sort.values()), align='center', color='blue', alpha=0.5)\n",
    "plt.bar(range(len(amino_acids_tm_helices)), list(amino_acids_tm_helices.values()), align='center', color='red', alpha=0.5)\n",
    "plt.xticks(range(len(amino_acids_tm_helices)), list(amino_acids_tm_helices.keys()))\n",
    "plt.title(\"Comparison of Amino Acid Frequency\")\n",
    "plt.legend([\"Helices\", \"Transmembrane Helices\"])\n",
    "plt.xlabel(\"Amino Acids\")\n",
    "plt.ylabel(\"Frequency (%)\")\n",
    "plt.ylim([0,20])\n",
    "f5.savefig('figures/comparison.pdf')\n",
    "f5.savefig('figures/comparison.png')\n",
    "plt.show  "
   ]
  },
  {
   "cell_type": "code",
   "execution_count": 87,
   "metadata": {},
   "outputs": [],
   "source": [
    "from prody import *\n",
    "import random\n",
    "import csv\n",
    "import urllib.request\n",
    "\n",
    "def parse_helices_from_pdbs(list_of_pdb_ids):\n",
    "    d = {'CYS': 'C', 'ASP': 'D', 'SER': 'S', 'GLN': 'Q', 'LYS': 'K',\n",
    "     'ILE': 'I', 'PRO': 'P', 'THR': 'T', 'PHE': 'F', 'ASN': 'N', \n",
    "     'GLY': 'G', 'HIS': 'H', 'LEU': 'L', 'ARG': 'R', 'TRP': 'W', \n",
    "     'ALA': 'A', 'VAL':'V', 'GLU': 'E', 'TYR': 'Y', 'MET': 'M'}\n",
    "    \n",
    "    helix_sequences = []\n",
    "    for pdb in list_of_pdb_ids:\n",
    "        atoms, header = parsePDB(pdb, header=True)\n",
    "        helix_ranges = header.get('helix_range')\n",
    "        helix_indices = []\n",
    "        for helix_range in helix_ranges:\n",
    "            helix_chain = helix_range[1]\n",
    "            helix_indices.append([helix_chain, helix_range[4],helix_range[5]])\n",
    "        \n",
    "        sequence = {}\n",
    "        for atom in atoms:\n",
    "            if atom.getChid() in sequence.keys():\n",
    "                sequence.get(atom.getChid()).update({atom.getResnum() : d.get(atom.getResname())})\n",
    "            else:\n",
    "                sequence[atom.getChid()] = {atom.getResnum() : d.get(atom.getResname())}\n",
    "        \n",
    "        for helix_index in helix_indices:\n",
    "            helix_sequence = \"\"\n",
    "            helix_start = helix_index[1]\n",
    "            helix_end = helix_index[2]\n",
    "            for key in range(helix_start,helix_end+1):\n",
    "                try:\n",
    "                    helix_sequence = helix_sequence+sequence.get(helix_index[0]).get(key)\n",
    "                except:\n",
    "                    helix_sequence = helix_sequence+\"U\"\n",
    "                    \n",
    "            helix_sequences.append(helix_sequence)\n",
    "        print(len(helix_sequences))\n",
    "    return helix_sequences\n",
    "    \n",
    "\n",
    "def get_list_of_all_pdbs():    \n",
    "    pdb_lst = []\n",
    "    urllib.request.urlretrieve(\"ftp://ftp.wwpdb.org/pub/pdb/derived_data/pdb_entry_type.txt\", \"pdb_entry_type.tsv\")\n",
    "\n",
    "    with open(\"pdb_entry_type.tsv\") as pdb_entry_type: \n",
    "        tsv = csv.reader(pdb_entry_type, delimiter=\"\\t\", quotechar='\"')\n",
    "        for row in tsv: \n",
    "            pdb_lst.append(row[0])\n",
    "                \n",
    "    return pdb_lst\n",
    "\n",
    "pdb_lst = get_list_of_all_pdbs()\n",
    "random.shuffle(pdb_lst)"
   ]
  },
  {
   "cell_type": "code",
   "execution_count": 88,
   "metadata": {},
   "outputs": [
    {
     "name": "stderr",
     "output_type": "stream",
     "text": [
      "@> Connecting wwPDB FTP server RCSB PDB (USA).\n",
      "@> 1yth downloaded (1yth.pdb.gz)\n",
      "@> PDB download via FTP completed (1 downloaded, 0 failed).\n",
      "@> 1525 atoms and 1 coordinate set(s) were parsed in 0.04s.\n",
      "@> Connecting wwPDB FTP server RCSB PDB (USA).\n"
     ]
    },
    {
     "name": "stdout",
     "output_type": "stream",
     "text": [
      "2\n"
     ]
    },
    {
     "name": "stderr",
     "output_type": "stream",
     "text": [
      "@> 3glw downloaded (3glw.pdb.gz)\n",
      "@> PDB download via FTP completed (1 downloaded, 0 failed).\n",
      "@> 847 atoms and 1 coordinate set(s) were parsed in 0.02s.\n",
      "@> Connecting wwPDB FTP server RCSB PDB (USA).\n"
     ]
    },
    {
     "name": "stdout",
     "output_type": "stream",
     "text": [
      "4\n"
     ]
    },
    {
     "name": "stderr",
     "output_type": "stream",
     "text": [
      "@> 4a0w downloaded (4a0w.pdb.gz)\n",
      "@> PDB download via FTP completed (1 downloaded, 0 failed).\n",
      "@> 60649 atoms and 1 coordinate set(s) were parsed in 0.91s.\n",
      "@> Connecting wwPDB FTP server RCSB PDB (USA).\n"
     ]
    },
    {
     "name": "stdout",
     "output_type": "stream",
     "text": [
      "318\n"
     ]
    },
    {
     "name": "stderr",
     "output_type": "stream",
     "text": [
      "@> 3hag downloaded (3hag.pdb.gz)\n",
      "@> PDB download via FTP completed (1 downloaded, 0 failed).\n",
      "@> 3589 atoms and 1 coordinate set(s) were parsed in 0.12s.\n",
      "@> Connecting wwPDB FTP server RCSB PDB (USA).\n"
     ]
    },
    {
     "name": "stdout",
     "output_type": "stream",
     "text": [
      "328\n"
     ]
    },
    {
     "name": "stderr",
     "output_type": "stream",
     "text": [
      "@> 1o4l downloaded (1o4l.pdb.gz)\n",
      "@> PDB download via FTP completed (1 downloaded, 0 failed).\n",
      "@> 1013 atoms and 1 coordinate set(s) were parsed in 0.03s.\n",
      "@> Connecting wwPDB FTP server RCSB PDB (USA).\n"
     ]
    },
    {
     "name": "stdout",
     "output_type": "stream",
     "text": [
      "331\n"
     ]
    },
    {
     "name": "stderr",
     "output_type": "stream",
     "text": [
      "@> 3ir0 downloaded (3ir0.pdb.gz)\n",
      "@> PDB download via FTP completed (1 downloaded, 0 failed).\n",
      "@> 5143 atoms and 1 coordinate set(s) were parsed in 0.08s.\n",
      "@> Connecting wwPDB FTP server RCSB PDB (USA).\n"
     ]
    },
    {
     "name": "stdout",
     "output_type": "stream",
     "text": [
      "381\n"
     ]
    },
    {
     "name": "stderr",
     "output_type": "stream",
     "text": [
      "@> 1xoz downloaded (1xoz.pdb.gz)\n",
      "@> PDB download via FTP completed (1 downloaded, 0 failed).\n",
      "@> 3020 atoms and 1 coordinate set(s) were parsed in 0.13s.\n",
      "@> Connecting wwPDB FTP server RCSB PDB (USA).\n"
     ]
    },
    {
     "name": "stdout",
     "output_type": "stream",
     "text": [
      "401\n"
     ]
    },
    {
     "name": "stderr",
     "output_type": "stream",
     "text": [
      "@> 5glh downloaded (5glh.pdb.gz)\n",
      "@> PDB download via FTP completed (1 downloaded, 0 failed).\n",
      "@> 3643 atoms and 1 coordinate set(s) were parsed in 0.07s.\n",
      "@> Connecting wwPDB FTP server RCSB PDB (USA).\n"
     ]
    },
    {
     "name": "stdout",
     "output_type": "stream",
     "text": [
      "422\n"
     ]
    },
    {
     "name": "stderr",
     "output_type": "stream",
     "text": [
      "@> 3hm9 downloaded (3hm9.pdb.gz)\n",
      "@> PDB download via FTP completed (1 downloaded, 0 failed).\n",
      "@> 5239 atoms and 1 coordinate set(s) were parsed in 0.10s.\n",
      "@> Connecting wwPDB FTP server RCSB PDB (USA).\n"
     ]
    },
    {
     "name": "stdout",
     "output_type": "stream",
     "text": [
      "437\n"
     ]
    },
    {
     "name": "stderr",
     "output_type": "stream",
     "text": [
      "@> 3tej downloaded (3tej.pdb.gz)\n",
      "@> PDB download via FTP completed (1 downloaded, 0 failed).\n",
      "@> 4855 atoms and 1 coordinate set(s) were parsed in 0.10s.\n"
     ]
    },
    {
     "name": "stdout",
     "output_type": "stream",
     "text": [
      "465\n",
      "22.28 sec\n"
     ]
    }
   ],
   "source": [
    "import time\n",
    "pdb_ids = pdb_lst[:10]\n",
    "start_time = time.time()\n",
    "nontm_helices = parse_helices_from_pdbs(pdb_ids)\n",
    "elapsed_time = time.time() - start_time\n",
    "print(round(elapsed_time,2), \"sec\")"
   ]
  },
  {
   "cell_type": "code",
   "execution_count": 80,
   "metadata": {},
   "outputs": [
    {
     "name": "stdout",
     "output_type": "stream",
     "text": [
      "['TESST', 'GGWSNYY', 'NVGPFVDA', 'QRGLVNARAVKGLMDALD', 'SMGGATALNFALEY', 'MEGIKLLFKLYAE', 'SYETLKQMLQVFL', 'DQSLI', 'TEELLQGRWEAIQRQ', 'QPEHLKNFLISAQKA', 'PLSTWD', 'VTARLGEI', 'LDHGLKLLWNI', 'WAQWEH', 'HADEFNRLVIDFLRHA']\n"
     ]
    }
   ],
   "source": [
    "print(nontm_helices)"
   ]
  },
  {
   "cell_type": "code",
   "execution_count": null,
   "metadata": {},
   "outputs": [],
   "source": []
  }
 ],
 "metadata": {
  "kernelspec": {
   "display_name": "Python 3",
   "language": "python",
   "name": "python3"
  },
  "language_info": {
   "codemirror_mode": {
    "name": "ipython",
    "version": 3
   },
   "file_extension": ".py",
   "mimetype": "text/x-python",
   "name": "python",
   "nbconvert_exporter": "python",
   "pygments_lexer": "ipython3",
   "version": "3.6.5"
  }
 },
 "nbformat": 4,
 "nbformat_minor": 2
}
