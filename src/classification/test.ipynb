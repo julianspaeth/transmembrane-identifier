{
 "cells": [
  {
   "cell_type": "code",
   "execution_count": 6,
   "metadata": {},
   "outputs": [
    {
     "name": "stdout",
     "output_type": "stream",
     "text": [
      "[[ 2  0  0 ...  1  0 -1]\n",
      " [ 1  0  0 ...  0  2  1]\n",
      " [ 1  0  0 ...  2  4  1]\n",
      " ...\n",
      " [ 0  0  0 ...  0  1 -1]\n",
      " [ 6  0  0 ...  0  5  1]\n",
      " [ 0  1  0 ...  0  1  1]]\n",
      "[[2 0 0 ... 1 1 0]\n",
      " [1 0 0 ... 0 0 2]\n",
      " [1 0 0 ... 3 2 4]\n",
      " ...\n",
      " [0 0 0 ... 0 0 1]\n",
      " [6 0 0 ... 1 0 5]\n",
      " [0 1 0 ... 0 0 1]]\n",
      "0.9648622981956315\n"
     ]
    }
   ],
   "source": [
    "import pickle\n",
    "import numpy as np\n",
    "import collections\n",
    "import random\n",
    "from sklearn.svm import SVC\n",
    "\n",
    "\n",
    "#TODO try different kernels, find optimal parameters with cv\n",
    "\n",
    "\n",
    "def getAAlst(helix):\n",
    "    c = collections.Counter(helix)\n",
    "    AA = ['A', 'R', 'N', 'D', 'C', 'Q', 'E', 'H', 'I', 'G', 'L', 'K', 'M', 'F', 'P', 'S', 'T', 'W', 'Y', 'V']\n",
    "    lst = []\n",
    "    for aa in AA:\n",
    "        lst.append(c[aa])\n",
    "    return lst\n",
    "\n",
    "#generate data\n",
    "#this should be cleaned for U's\n",
    "trans_hel = pickle.load(open(\"pdbtmhel\", \"rb\"))\n",
    "mol_hel = pickle.load(open(\"pdbhel\", \"rb\"))\n",
    "\n",
    "#makes sure that i can interpret the accuracy\n",
    "trans_hel = trans_hel[:5000]\n",
    "mol_hel = mol_hel[:5000]\n",
    "\n",
    "data = []\n",
    "\n",
    "for helix in trans_hel:\n",
    "    temp = getAAlst(helix)\n",
    "    temp.append(1)\n",
    "    data.append(temp)\n",
    "\n",
    "for helix in mol_hel:\n",
    "    temp = getAAlst(helix)\n",
    "    temp.append(-1)\n",
    "    data.append(temp)\n",
    "\n",
    "random.shuffle(data)       \n",
    "npdata = np.array(data)\n",
    "\n",
    "split = 2*len(npdata)//3\n",
    "\n",
    "train = npdata[:split]\n",
    "print(train)\n",
    "test = npdata[split:]\n",
    "\n",
    "X_train = train[:,0:20]\n",
    "print(X_train)\n",
    "Y_train = np.ravel(train[:,20:21])\n",
    "X_test = test[:,0:20]\n",
    "Y_test = np.ravel(test[:,20:21])\n",
    "\n",
    "\n",
    "#svm\n",
    "sv = SVC()\n",
    "\n",
    "sv.fit(X_train, Y_train)\n",
    "print(sv.score(X_test, Y_test))"
   ]
  },
  {
   "cell_type": "code",
   "execution_count": null,
   "metadata": {},
   "outputs": [],
   "source": []
  }
 ],
 "metadata": {
  "kernelspec": {
   "display_name": "Python 3",
   "language": "python",
   "name": "python3"
  },
  "language_info": {
   "codemirror_mode": {
    "name": "ipython",
    "version": 3
   },
   "file_extension": ".py",
   "mimetype": "text/x-python",
   "name": "python",
   "nbconvert_exporter": "python",
   "pygments_lexer": "ipython3",
   "version": "3.6.5"
  }
 },
 "nbformat": 4,
 "nbformat_minor": 2
}
