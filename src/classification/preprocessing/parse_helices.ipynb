{
 "cells": [
  {
   "cell_type": "code",
   "execution_count": 1,
   "metadata": {},
   "outputs": [],
   "source": [
    "# Imports and classes\n",
    "import xml.etree.ElementTree as ET\n",
    "import os\n",
    "from shutil import copyfile\n",
    "\n",
    "class PDBTM:\n",
    "    def __init__(self, id = str, chains = []): \n",
    "        self.id = id\n",
    "        self.chains = chains\n",
    "    \n",
    "class Chain:\n",
    "    def __init__(self, id = str, num_tm = int, typ = str, seq = str, regions = []): \n",
    "        self.id = id\n",
    "        self.num_tm = num_tm\n",
    "        self.typ = typ\n",
    "        self.seq = seq\n",
    "        self.regions = regions\n",
    "    \n",
    "class Region:\n",
    "    def __init__(self, seq_beg = int, pdb_beg = int, seq_end = int, pdb_end = int, typ = str):\n",
    "        self.seq_beg = seq_beg\n",
    "        self.pdb_beg = pdb_beg\n",
    "        self.seq_end = seq_end\n",
    "        self.pdb_end = pdb_end\n",
    "        self.typ = typ"
   ]
  },
  {
   "cell_type": "code",
   "execution_count": 2,
   "metadata": {},
   "outputs": [],
   "source": [
    "def parse_pdbtm_xmls(paths):\n",
    "    '''\n",
    "    Parses PDBTM XML files to a list od PDBTM Objects.\n",
    "    A PDBTM Object contains the PDB ID as well as a list of Chain objects. \n",
    "    A Chain Object contains the chain ID, the tm number, the type, the sequence and a list of Region objects.\n",
    "    A Region object contains the begin and end indices of the sequence and the pdb file, as well as the type.\n",
    "    '''\n",
    "    ns = {'pdbtm': 'http://pdbtm.enzim.hu'}\n",
    "    pdbtms = []\n",
    "    for path in paths:\n",
    "        pdbtm_xml = ET.parse(path) \n",
    "        pdbtm_root = pdbtm_xml.getroot()\n",
    "        pdbtm_id = pdbtm_root.attrib.get('ID')\n",
    "        \n",
    "        if pdbtm_root.attrib.get('TMP') == 'yes':\n",
    "            chains = []\n",
    "            for chain_xml in pdbtm_root.findall('pdbtm:CHAIN', ns):\n",
    "                chain_id = chain_xml.attrib.get('CHAINID')\n",
    "                num_tm = chain_xml.attrib.get('NUM_TM')\n",
    "                typ = chain_xml.attrib.get('TYPE')\n",
    "                seq = chain_xml.find('pdbtm:SEQ', ns)\n",
    "\n",
    "                regions = []\n",
    "                for region_xml in chain_xml.findall('pdbtm:REGION', ns):\n",
    "                    seq_beg = region_xml.attrib.get('seq_beg')\n",
    "                    pdb_beg = region_xml.attrib.get('pdb_beg')\n",
    "                    seq_end = region_xml.attrib.get('seq_end')\n",
    "                    pdb_end = region_xml.attrib.get('pdb_end')\n",
    "                    typ_region = region_xml.attrib.get('type')\n",
    "                    region = Region(seq_beg, pdb_beg, seq_end, pdb_end, typ_region)\n",
    "                    regions.append(region)\n",
    "            chain = Chain(chain_id, num_tm, typ, seq.text.replace(\" \", \"\").replace(\"\\n\", \"\"), regions)\n",
    "            chains.append(chain) \n",
    "            \n",
    "            pdbtm = PDBTM(pdbtm_id, chains)\n",
    "            pdbtms.append(pdbtm)\n",
    "        \n",
    "        else:\n",
    "            print(pdbtm_id, \"is no TMP and was ignored.\")\n",
    "    \n",
    "    return pdbtms\n",
    "\n",
    "# Parse pdbtm xml files\n",
    "paths = []\n",
    "for file in os.listdir(\"pdbtm_xmls\"):\n",
    "    if file.endswith(\".xml\"):\n",
    "        path = os.path.join(\"pdbtm_xmls\", file)\n",
    "        paths.append(path.strip())        \n",
    "pdbtms = parse_pdbtm_xmls(paths)"
   ]
  },
  {
   "cell_type": "code",
   "execution_count": 3,
   "metadata": {},
   "outputs": [
    {
     "name": "stdout",
     "output_type": "stream",
     "text": [
      "There are 3284 transmembrane proteins in the pdbtm database.\n"
     ]
    }
   ],
   "source": [
    "def get_list_of_pdbtm_ids():\n",
    "    pdbtms = []\n",
    "    for file in os.listdir(\"pdbtm_xmls\"):\n",
    "        if file.endswith(\".xml\"):\n",
    "            pdbid = file.replace(\".xml\", \"\")\n",
    "            pdbtms.append(pdbid)\n",
    "    \n",
    "    return pdbtms\n",
    "\n",
    "pdbtm_ids = get_list_of_pdbtm_ids()\n",
    "print(\"There are\",len(pdbtm_ids), \"transmembrane proteins in the pdbtm database.\")"
   ]
  },
  {
   "cell_type": "code",
   "execution_count": 51,
   "metadata": {},
   "outputs": [
    {
     "name": "stdout",
     "output_type": "stream",
     "text": [
      "There are 14973 transmembrane helices in the transmembrane proteins of the pdbtm database.\n"
     ]
    }
   ],
   "source": [
    "aas = ['A', 'R', 'N', 'D', 'C', 'Q', 'E', 'H', 'I', 'G', 'L', 'K', 'M', 'F', 'P', 'S', 'T', 'W', 'Y', 'V']\n",
    "\n",
    "def isValid(helix):\n",
    "    if set(helix).issubset(set(aas)):\n",
    "        return True\n",
    "    else:\n",
    "        return False\n",
    "\n",
    "def get_tm_helices(pdbtms):\n",
    "    pdbtm_helices = []\n",
    "    for pdbtm in pdbtms:\n",
    "        for chain in pdbtm.chains:\n",
    "            if chain.typ == \"alpha\":\n",
    "                for region in chain.regions:\n",
    "                    if region.typ == \"H\":\n",
    "                        helix = chain.seq[int(region.seq_beg):int(region.seq_end)]\n",
    "                        if (len(helix) > 0) and isValid(helix):\n",
    "                            pdbtm_helices.append([pdbtm.id, chain.id, int(region.pdb_beg), int(region.pdb_end), int(region.pdb_end)-int(region.pdb_beg), helix, int(1)])\n",
    "    return pdbtm_helices\n",
    "\n",
    "tm_helices = get_tm_helices(pdbtms)\n",
    "print(\"There are\", len(tm_helices), \"transmembrane helices in the transmembrane proteins of the pdbtm database.\")"
   ]
  },
  {
   "cell_type": "code",
   "execution_count": 52,
   "metadata": {},
   "outputs": [],
   "source": [
    "import pandas as pd\n",
    "import numpy as np\n",
    "\n",
    "# Create dataframe, remove duplicates and save it as CSV\n",
    "columns = [\"PDB ID\", \"Chain\", \"Helix Start\", \"Helix End\", \"Helix Length\", \"Helix Sequence\", \"Is Transmembrane\"]\n",
    "indices = range(1,len(tm_helices)+1)\n",
    "tm_helices = np.array(tm_helices)\n",
    "df_tm = pd.DataFrame(tm_helices,columns=columns)\n",
    "df_tm = df_tm.drop_duplicates()\n",
    "df_tm.to_csv(\"tm_helices.csv\", sep=',', encoding='utf-8', index=False)"
   ]
  },
  {
   "cell_type": "code",
   "execution_count": 53,
   "metadata": {},
   "outputs": [
    {
     "name": "stdout",
     "output_type": "stream",
     "text": [
      "There are 30671 non-transmembrane helices in the transmembrane proteins of the pdbtm database.\n"
     ]
    }
   ],
   "source": [
    "def get_nontm_helices(pdbtms):\n",
    "    \n",
    "    regions = []\n",
    "    pdbtm_helices = []\n",
    "    for pdbtm in pdbtms:\n",
    "        for chain in pdbtm.chains:\n",
    "            if chain.typ == \"alpha\":\n",
    "                for region in chain.regions:\n",
    "                    if region.typ == \"1\" or region.typ != \"2\":\n",
    "                        helix = chain.seq[int(region.seq_beg):int(region.seq_end)]\n",
    "                        if (len(helix) > 0 ) and isValid(helix):\n",
    "                            pdbtm_helices.append([pdbtm.id, chain.id, region.pdb_beg, region.pdb_end, int(region.pdb_end)-int(region.pdb_beg), helix, int(0)])\n",
    "    return pdbtm_helices\n",
    "\n",
    "nontm_helices = get_nontm_helices(pdbtms)\n",
    "print(\"There are\", len(nontm_helices), \"non-transmembrane helices in the transmembrane proteins of the pdbtm database.\")"
   ]
  },
  {
   "cell_type": "code",
   "execution_count": 54,
   "metadata": {},
   "outputs": [],
   "source": [
    "# Create dataframe, remove duplicates and save it as CSV\n",
    "columns = [\"PDB ID\", \"Chain\", \"Helix Start\", \"Helix End\", \"Helix Length\", \"Helix Sequence\", \"Is Transmembrane\"]\n",
    "indices = range(1,len(nontm_helices)+1)\n",
    "nontm_helices = np.array(nontm_helices)\n",
    "df_nontm = pd.DataFrame(nontm_helices,columns=columns)\n",
    "df_nontm = df_nontm.drop_duplicates()\n",
    "df_nontm.to_csv(\"nontm_helices.csv\", sep=',', encoding='utf-8', index=False)"
   ]
  },
  {
   "cell_type": "code",
   "execution_count": 58,
   "metadata": {},
   "outputs": [
    {
     "name": "stdout",
     "output_type": "stream",
     "text": [
      "TM helices: 14973\n",
      "NON-TM helices: 30671\n"
     ]
    }
   ],
   "source": [
    "# Combine dataframes\n",
    "tm_helices = pd.read_csv(\"tm_helices.csv\")\n",
    "samples=len(tm_helices.axes[0])\n",
    "print(\"TM helices:\", samples)\n",
    "\n",
    "nontm_helices = pd.read_csv(\"nontm_helices.csv\")\n",
    "samples=len(nontm_helices.axes[0])\n",
    "print(\"NON-TM helices:\", samples)  \n",
    "\n",
    "frames = [tm_helices, nontm_helices]\n",
    "training_data = pd.concat(frames)\n",
    "training_data = training_data.drop_duplicates()\n",
    "training_data = training_data.dropna()\n",
    "training_data.sort_values([\"PDB ID\", \"Chain\", \"Is Transmembrane\"], ascending=[True, True, True], inplace=True)\n",
    "training_data.to_csv(\"training_data.csv\", sep=',', encoding='utf-8', index=False)"
   ]
  },
  {
   "cell_type": "code",
   "execution_count": null,
   "metadata": {},
   "outputs": [],
   "source": []
  },
  {
   "cell_type": "code",
   "execution_count": null,
   "metadata": {},
   "outputs": [],
   "source": []
  }
 ],
 "metadata": {
  "kernelspec": {
   "display_name": "Python 3",
   "language": "python",
   "name": "python3"
  },
  "language_info": {
   "codemirror_mode": {
    "name": "ipython",
    "version": 3
   },
   "file_extension": ".py",
   "mimetype": "text/x-python",
   "name": "python",
   "nbconvert_exporter": "python",
   "pygments_lexer": "ipython3",
   "version": "3.6.3"
  }
 },
 "nbformat": 4,
 "nbformat_minor": 2
}
