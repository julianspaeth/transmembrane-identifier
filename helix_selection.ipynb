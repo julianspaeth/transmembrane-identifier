{
 "cells": [
  {
   "cell_type": "markdown",
   "metadata": {},
   "source": [
    "# distance -> leave-one-out for tm helices -> check dist"
   ]
  },
  {
   "cell_type": "code",
   "execution_count": 1,
   "metadata": {},
   "outputs": [],
   "source": [
    "from Bio.PDB import *\n",
    "from Bio.PDB.PDBExceptions import PDBConstructionWarning\n",
    "\n",
    "import numpy as np\n",
    "import matplotlib.pyplot as plt\n",
    "import math\n",
    "import pandas as pd\n",
    "\n",
    "from pdb_io import parse_PDB, position_model\n",
    "from geometry import calculate_angle, make_vectors_cone, get_rotation\n",
    "from q_value import calc_Q_value\n",
    "\n",
    "import warnings"
   ]
  },
  {
   "cell_type": "code",
   "execution_count": 2,
   "metadata": {},
   "outputs": [],
   "source": [
    "def extract_helices_from_PDB(filepath):\n",
    "    file = open(filepath, \"r\")\n",
    "    lines = file.read().split(\"\\n\")\n",
    "    \n",
    "    index = 0\n",
    "    helices = []\n",
    "    while not lines[index].startswith(\"HELIX\"):\n",
    "        index += 1\n",
    "    while lines[index].startswith(\"HELIX\"):\n",
    "        line = lines[index]\n",
    "        chain, start, end = line[19], int(line[21:25]), int(line[33:37])\n",
    "        if (chain, start, end) not in helices:\n",
    "            helices.append((chain, start, end))\n",
    "        index += 1\n",
    "    file.close()\n",
    "    return helices"
   ]
  },
  {
   "cell_type": "code",
   "execution_count": 3,
   "metadata": {},
   "outputs": [],
   "source": [
    "def calc_helix_geometry(helix):\n",
    "    chain, start, end = helix\n",
    "    helix_CO_bonds = []\n",
    "    helix_CAs = []\n",
    "    if end-start+1 < 8:\n",
    "        return None, None\n",
    "    else:\n",
    "        for i in range(start, end+1):\n",
    "            try:\n",
    "                helix_CO_bonds.append(model[chain][i]['O'].coord - model[chain][i]['C'].coord)\n",
    "                helix_CAs.append(model[chain][i]['CA'].coord)\n",
    "            except KeyError:\n",
    "                continue\n",
    "            \n",
    "    sum_vector = sum(helix_CO_bonds)\n",
    "    \n",
    "    deviation_angles = [calculate_angle(sum_vector, bond, True) for bond in helix_CO_bonds]\n",
    "        \n",
    "    angle_mean = np.mean(deviation_angles)\n",
    "    angle_std = np.std(deviation_angles)\n",
    "    \n",
    "    final_helix_CO_bonds = [helix_CO_bonds[i] for i in range(len(helix_CO_bonds))\n",
    "                            if abs(deviation_angles[i]-angle_mean) < angle_std]\n",
    "    \n",
    "    helix_direction = sum(final_helix_CO_bonds)\n",
    "    helix_direction = helix_direction / np.linalg.norm(helix_direction)\n",
    "    helix_center = sum(helix_CAs) / (1.0*len(helix_CAs))\n",
    "\n",
    "    return helix_center, helix_direction\n",
    "\n",
    "\n",
    "\n",
    "    \n",
    "def calculate_projected_dist(a_pos, a_dir, b_pos, b_dir):\n",
    "    common_dir = a_dir + b_dir*np.sign(np.dot(a_dir , b_dir))\n",
    "    common_dir = common_dir / np.linalg.norm(common_dir)\n",
    "    \n",
    "    center_dist = np.abs(np.dot(a_pos, common_dir) - np.dot(b_pos, common_dir))\n",
    "    \n",
    "    return center_dist\n",
    "\n",
    "def distance_function(a_dir, a_pos, b_dir, b_pos):\n",
    "    return  1- np.abs(np.cos( calculate_angle(a_dir, b_dir) )) + calculate_projected_dist(a_pos, a_dir, b_pos, b_dir) / 15\n",
    "    \n",
    "    \n",
    "    "
   ]
  },
  {
   "cell_type": "code",
   "execution_count": 318,
   "metadata": {},
   "outputs": [
    {
     "name": "stdout",
     "output_type": "stream",
     "text": [
      "[('A', 4, 9), ('A', 51, 62), ('A', 72, 82), ('A', 103, 118), ('A', 124, 143), ('A', 145, 157), ('A', 162, 164), ('A', 171, 176), ('A', 179, 190), ('A', 205, 211), ('A', 224, 226), ('A', 265, 277), ('A', 287, 289), ('A', 293, 300), ('A', 331, 348), ('A', 351, 369), ('A', 372, 385), ('A', 392, 401), ('A', 404, 414), ('A', 434, 441), ('B', 55, 57), ('B', 65, 71), ('B', 82, 92), ('B', 113, 128), ('B', 134, 153), ('B', 155, 167), ('B', 183, 185), ('B', 188, 198), ('B', 201, 203), ('B', 213, 223), ('B', 267, 279), ('B', 294, 302), ('B', 333, 348), ('B', 354, 372), ('B', 375, 388), ('B', 395, 404), ('B', 407, 418), ('C', 5, 8), ('C', 10, 18), ('C', 29, 31), ('C', 33, 53), ('C', 62, 72), ('C', 76, 104), ('C', 106, 108), ('C', 110, 133), ('C', 137, 152), ('C', 157, 165), ('C', 172, 202), ('C', 214, 216), ('C', 222, 244), ('C', 272, 282), ('C', 287, 307), ('C', 315, 317), ('C', 319, 340), ('C', 345, 363), ('C', 365, 376), ('D', 23, 36), ('D', 58, 71), ('D', 74, 76), ('D', 98, 104), ('D', 113, 115), ('D', 123, 131), ('D', 179, 194), ('D', 196, 201), ('D', 204, 231), ('E', 16, 18), ('E', 26, 62), ('E', 66, 73), ('E', 103, 111), ('E', 123, 125), ('E', 151, 153), ('F', 13, 23), ('F', 25, 29), ('F', 33, 36), ('F', 41, 49), ('F', 52, 71), ('F', 77, 79), ('F', 89, 108), ('G', 20, 22), ('G', 29, 71), ('H', 16, 26), ('H', 28, 40), ('H', 50, 52), ('H', 55, 76), ('J', 5, 13), ('J', 17, 47), ('J', 52, 55), ('K', 16, 34)]\n"
     ]
    }
   ],
   "source": [
    "print(helices)"
   ]
  },
  {
   "cell_type": "code",
   "execution_count": 4,
   "metadata": {},
   "outputs": [],
   "source": [
    "# Parse Model, get helices\n",
    "model = parse_PDB('./structures_helices/1be3.pdb')\n",
    "model, prev_pos = position_model(model)\n",
    "\n",
    "\n",
    "helices = extract_helices_from_PDB('./structures_helices/1be3.pdb')\n",
    "\n",
    "# Manually checked, long helixes inside membrane\n",
    "tm = [('C', 33),('C', 76),('C', 110),('C', 172),('C', 222),\n",
    "      ('C', 287),('C', 319),('C', 345),('C', 365),('D', 204),\n",
    "      ('E', 26),('G', 29),('J', 17),('K', 16)]\n",
    "\n",
    "# Get labels, vectors and centers of each helix\n",
    "labels = [(helix[0], helix[1]) in tm for helix in helices]\n",
    "\n",
    "helix_vectors = []\n",
    "helix_centers = []\n",
    "\n",
    "for helix in helices:\n",
    "    dicti = calc_helix_geometry(helix)\n",
    "    helix_vectors.append(dicti[1])\n",
    "    helix_centers.append(dicti[0])"
   ]
  },
  {
   "cell_type": "code",
   "execution_count": 5,
   "metadata": {},
   "outputs": [
    {
     "name": "stdout",
     "output_type": "stream",
     "text": [
      "[ 32.23923999 127.88527506  21.56395075]\n"
     ]
    }
   ],
   "source": [
    "print(prev_pos)"
   ]
  },
  {
   "cell_type": "code",
   "execution_count": 6,
   "metadata": {},
   "outputs": [],
   "source": [
    "helix_df = pd.DataFrame({'helix':helices, 'label':labels, 'direction':helix_vectors, 'center':helix_centers})\n",
    "helix_df = helix_df.dropna()\n",
    "helix_df_tm = helix_df[helix_df['label']]\n",
    "helix_df_not_tm = helix_df[[not i for i in helix_df['label']]]"
   ]
  },
  {
   "cell_type": "code",
   "execution_count": 151,
   "metadata": {},
   "outputs": [],
   "source": [
    "#[[i[0],i[1],i[2]] for i in helix_df['direction']]"
   ]
  },
  {
   "cell_type": "code",
   "execution_count": 6,
   "metadata": {},
   "outputs": [],
   "source": [
    "angle_matrix_all = [[1- np.abs(np.cos( calculate_angle(helix_df.loc[i,'direction'], helix_df.loc[j,'direction'], True) ) )\n",
    "                     for j in helix_df.index] for i in helix_df.index]\n",
    "\n",
    "angle_matrix_tm = [[1- np.abs(np.cos( calculate_angle(helix_df_tm.loc[i,'direction'], helix_df_tm.loc[j,'direction'], True)))\n",
    "                     for j in helix_df_tm.index] for i in helix_df_tm.index]\n",
    "\n",
    "dist_matrix_all = [[distance_function(helix_df.loc[i,'direction'], helix_df.loc[i,'center'], \n",
    "                                             helix_df.loc[j,'direction'], helix_df.loc[j,'center'])\n",
    "                 for j in helix_df.index] for i in helix_df.index]\n",
    "\n",
    "dist_matrix_tm = [[distance_function(helix_df_tm.loc[i,'direction'], helix_df_tm.loc[i,'center'], \n",
    "                                             helix_df_tm.loc[j,'direction'], helix_df_tm.loc[j,'center'])\n",
    "                 for j in helix_df_tm.index] for i in helix_df_tm.index]"
   ]
  },
  {
   "cell_type": "code",
   "execution_count": 9,
   "metadata": {},
   "outputs": [
    {
     "data": {
      "text/plain": [
       "'\\nplt.subplots(ncols=2, nrows=2, figsize=(20,20))\\nmake_heatmap(angle_matrix_all, 221, 1, \\'CMRmap_r\\', helix_df[\\'label\\'], \"1BE3 Angles [transformed]\")\\nmake_heatmap(angle_matrix_tm, 223, 1, \\'CMRmap_r\\', helix_df_tm[\\'label\\'], \"1BE3 Angles [transformed]\")\\nmake_heatmap(dist_matrix_all, 222, 2, \\'CMRmap_r\\', helix_df[\\'label\\'], \"1BE3 New Dist. function\")\\nmake_heatmap(dist_matrix_tm, 224, 2, \\'CMRmap_r\\', helix_df_tm[\\'label\\'], \"1BE3 New Dist. function\")\\n'"
      ]
     },
     "execution_count": 9,
     "metadata": {},
     "output_type": "execute_result"
    }
   ],
   "source": [
    "from matplotlib.colors import LinearSegmentedColormap\n",
    "mycmap = LinearSegmentedColormap.from_list('mycmap', \n",
    "        [(0,'#113377'),(1/6,'#66dd33'),(2/6,'#ffdd99'),(0.5,'white'),(4/6,'#ffdd99'),(5/6,'#66dd33'),(1,'#113377')])\n",
    "\n",
    "\n",
    "def make_heatmap(dist_matrix, subplot, vmax, cmap, labels, title):\n",
    "    \n",
    "    plt.subplot(subplot)\n",
    "    plt.imshow(dist_matrix, cmap=cmap, vmax=vmax);\n",
    "    plt.colorbar();\n",
    "    plt.title(title);\n",
    "    plt.xticks(range(len(labels)),labels, rotation='vertical');\n",
    "    plt.yticks(range(len(labels)),labels, rotation='horizontal');\n",
    "    plt.gca().xaxis.tick_bottom();\n",
    "    plt.tick_params(labelsize=8);\n",
    "    \n",
    "\"\"\"\n",
    "plt.subplots(ncols=2, nrows=2, figsize=(20,20))\n",
    "make_heatmap(angle_matrix_all, 221, 1, 'CMRmap_r', helix_df['label'], \"1BE3 Angles [transformed]\")\n",
    "make_heatmap(angle_matrix_tm, 223, 1, 'CMRmap_r', helix_df_tm['label'], \"1BE3 Angles [transformed]\")\n",
    "make_heatmap(dist_matrix_all, 222, 2, 'CMRmap_r', helix_df['label'], \"1BE3 New Dist. function\")\n",
    "make_heatmap(dist_matrix_tm, 224, 2, 'CMRmap_r', helix_df_tm['label'], \"1BE3 New Dist. function\")\n",
    "\"\"\""
   ]
  },
  {
   "cell_type": "code",
   "execution_count": 12,
   "metadata": {},
   "outputs": [],
   "source": [
    "# test distances of helices to TM helix average\n",
    "total_direction, total_center = average_direction_center(helix_df_tm)\n",
    "blah1 = [distance_function(total_direction, total_center, \n",
    "                           helix_df_tm.loc[i,'direction'], helix_df_tm.loc[i,'center'])\n",
    "        for i in helix_df_tm.index]\n",
    "\n",
    "\n",
    "blah2 = [distance_function(total_direction, total_center, \n",
    "                           helix_df_not_tm.loc[i,'direction'], helix_df_not_tm.loc[i,'center'])\n",
    "        for i in helix_df_not_tm.index]"
   ]
  },
  {
   "cell_type": "code",
   "execution_count": 13,
   "metadata": {},
   "outputs": [
    {
     "data": {
      "image/png": "[encoded data removed]",
      "text/plain": [
       "<Figure size 432x288 with 1 Axes>"
      ]
     },
     "metadata": {},
     "output_type": "display_data"
    }
   ],
   "source": [
    "plt.scatter(blah1, [1]*len(blah1), s=3)\n",
    "plt.scatter(blah2, [2]*len(blah2), s=3, color='red')\n",
    "plt.vlines(x=1, ymin=-2, ymax=5)\n",
    "plt.ylim([-2,5]);"
   ]
  },
  {
   "cell_type": "code",
   "execution_count": 4,
   "metadata": {},
   "outputs": [],
   "source": [
    "def average_direction_center(helix_tm):\n",
    "    total_direction = helix_tm.loc[helix_tm.index[0],'direction']\n",
    "    total_center = helix_tm.loc[helix_tm.index[0],'direction']\n",
    "    \n",
    "    for helix in helix_tm.index[1:]:\n",
    "        total_direction = total_direction + (helix_tm.loc[helix,'direction']\n",
    "                                             * np.sign(np.dot(helix_tm.loc[helix,'direction'], total_direction)))\n",
    "        total_center = total_center + helix_tm.loc[helix,'center']\n",
    "            \n",
    "    total_direction = total_direction / np.linalg.norm(total_direction)\n",
    "    total_center = total_center / len(helix_tm.index)\n",
    "    \n",
    "    return total_direction, total_center\n",
    "\n",
    "    \n",
    "    \n",
    "def filter_outlier_helices(helix_tm, cutoff=1):\n",
    "    helix_tm2 = helix_tm.copy()\n",
    "    total_direction, total_center = average_direction_center(helix_tm2)\n",
    "    outliers = [helix for helix in helix_tm2.index\n",
    "               if distance_function(total_direction, total_center, \n",
    "                                  helix_tm2.loc[helix,'direction'], helix_tm2.loc[helix,'center']) > cutoff]\n",
    "    print(outliers)\n",
    "    while len(outliers) > 0:\n",
    "        helix_tm2 = helix_tm2.drop(outliers)\n",
    "        total_direction, total_center = average_direction_center(helix_tm2)\n",
    "        outliers = [helix for helix in helix_tm2.index\n",
    "                    if distance_function(total_direction, total_center, \n",
    "                                         helix_tm2.loc[helix,'direction'], helix_tm2.loc[helix,'center']) > cutoff]\n",
    "        print(outliers)\n",
    "    return total_direction, total_center\n",
    "\n",
    "    \n",
    "#total_direction, total_center = filter_outlier_helices(helix_df_tm, 1.1) # or 1.0 ??\n",
    "#print(total_direction, total_center)"
   ]
  },
  {
   "cell_type": "code",
   "execution_count": 31,
   "metadata": {},
   "outputs": [],
   "source": [
    "def get_max_sliding_window(scores, window=15):\n",
    "    avgs = [sum(scores[i:(i+window)])/window for i in range(len(scores)-window)]\n",
    "\n",
    "    max_score = max(avgs)\n",
    "    max_index = np.argmax(avgs)\n",
    "    \n",
    "    return max_score, max_index, avgs\n",
    "    \n",
    "#max_score, max_index, avgs = get_max_sliding_window(slice_scores1, 20)\n",
    "\n",
    "\n",
    "def optimise_vector(model, vector, window_size=15):\n",
    "    test_vectors = make_vectors_cone(vector, 15, 2)\n",
    "    \n",
    "    best_vector = vector\n",
    "    best_slice_scores, best_z_min, best_z_max = calc_Q_value(model, vector)\n",
    "    best_score, best_max_index, best_avgs = get_max_sliding_window(best_slice_scores, window_size)\n",
    "    print(best_vector, best_score)\n",
    "    \n",
    "    for test_vector in test_vectors:\n",
    "        test_slice_scores, test_z_min, test_z_max = calc_Q_value(model, np.array(test_vector))\n",
    "\n",
    "        test_score, test_max_index, test_avgs = get_max_sliding_window(test_slice_scores, window_size) \n",
    "        \n",
    "        if test_score > best_score:\n",
    "            best_vector = test_vector\n",
    "            best_score = test_score\n",
    "            best_z_min = test_z_min\n",
    "            best_z_max = test_z_max\n",
    "            best_max_index = test_max_index\n",
    "            best_avgs = test_avgs\n",
    "            best_slice_scores = test_slice_scores\n",
    "\n",
    "    \n",
    "    fig, ax = plt.subplots(figsize=(10,7))\n",
    "    ax.plot(range(best_z_min, best_z_max), best_slice_scores)\n",
    "    ax.set_title(\"[%1.3f, %1.3f, %1.3f]\"%(best_vector[0], best_vector[1], best_vector[2]))\n",
    "    ax.set_xlabel('Cross Section')\n",
    "    ax.set_ylabel('Q-score')\n",
    "    for i, avg in enumerate(best_avgs):\n",
    "        ax.plot([best_z_min+i, best_z_min+i+window_size], [avg, avg], color=\"red\")\n",
    "        \n",
    "    return best_vector, best_score, best_slice_scores, best_avgs, fig\n",
    "\n",
    "    \n",
    "    \n",
    "#best_vector, best_score, best_slice_scores, best_avgs = optimise_vector(model, total_direction, 15)"
   ]
  },
  {
   "cell_type": "code",
   "execution_count": 14,
   "metadata": {},
   "outputs": [
    {
     "name": "stdout",
     "output_type": "stream",
     "text": [
      "[0.808079090251242, -0.5561224489795918, 0.19425757550135908] 0.36914744616567247 5\n"
     ]
    }
   ],
   "source": [
    "print(best_vector, best_score, best_max_index)"
   ]
  },
  {
   "cell_type": "code",
   "execution_count": 6,
   "metadata": {},
   "outputs": [],
   "source": [
    "# Parse Model, get helices\n",
    "model = parse_PDB('./structures_helices/1clt.pdb')\n",
    "model, prev_pos = position_model(model)\n",
    "\n",
    "\n",
    "helices = extract_helices_from_PDB('./structures_helices/1clt.pdb')\n",
    "#for hel in helices:\n",
    "#    print(hel)"
   ]
  },
  {
   "cell_type": "code",
   "execution_count": 7,
   "metadata": {},
   "outputs": [],
   "source": [
    "# Manually checked, long helixes inside membrane\n",
    "tm = [('L', 33),('L', 84),('L', 116),('L', 171),('L', 226),\n",
    "      ('M', 52),('M', 111),('M', 143),('M', 198),('M', 262)]\n",
    "\n",
    "# Get labels, vectors and centers of each helix\n",
    "labels = [(helix[0], helix[1]) in tm for helix in helices]\n",
    "\n",
    "helix_vectors = []\n",
    "helix_centers = []\n",
    "\n",
    "for helix in helices:\n",
    "    dicti = calc_helix_geometry(helix)\n",
    "    helix_vectors.append(dicti[1])\n",
    "    helix_centers.append(dicti[0])"
   ]
  },
  {
   "cell_type": "code",
   "execution_count": 8,
   "metadata": {},
   "outputs": [],
   "source": [
    "helix_df = pd.DataFrame({'helix':helices, 'label':labels, 'direction':helix_vectors, 'center':helix_centers})\n",
    "helix_df = helix_df.dropna()\n",
    "helix_df_tm = helix_df[helix_df['label']]\n",
    "helix_df_not_tm = helix_df[[not i for i in helix_df['label']]]"
   ]
  },
  {
   "cell_type": "code",
   "execution_count": 30,
   "metadata": {},
   "outputs": [
    {
     "name": "stdout",
     "output_type": "stream",
     "text": [
      "[]\n",
      "[120.7437785   65.57580234   8.3591867 ]\n",
      "[-0.5070215  -0.7417405   0.43903329] [ 2.7289882  -0.35099164 -0.58742261]\n",
      "[-0.5070215  -0.7417405   0.43903329] 0.48751545717638683\n"
     ]
    },
    {
     "data": {
      "image/png": "[encoded data removed]",
      "text/plain": [
       "<Figure size 1008x720 with 1 Axes>"
      ]
     },
     "metadata": {},
     "output_type": "display_data"
    }
   ],
   "source": [
    "total_direction, total_center = filter_outlier_helices(helix_df_tm, 1.1) # or 1.0 ??\n",
    "print(prev_pos)\n",
    "print(total_direction, total_center)\n",
    "\n",
    "\n",
    "best_vector, best_score, best_slice_scores, best_avgs, fig = optimise_vector(model, total_direction, 15)\n",
    "fig.savefig(\"./test.png\")"
   ]
  }
 ],
 "metadata": {
  "kernelspec": {
   "display_name": "Python 3",
   "language": "python",
   "name": "python3"
  },
  "language_info": {
   "codemirror_mode": {
    "name": "ipython",
    "version": 3
   },
   "file_extension": ".py",
   "mimetype": "text/x-python",
   "name": "python",
   "nbconvert_exporter": "python",
   "pygments_lexer": "ipython3",
   "version": "3.6.5"
  }
 },
 "nbformat": 4,
 "nbformat_minor": 2
}
