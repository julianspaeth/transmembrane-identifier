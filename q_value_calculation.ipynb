{
 "cells": [
  {
   "cell_type": "code",
   "execution_count": 8,
   "metadata": {},
   "outputs": [],
   "source": [
    "from Bio.PDB import *\n",
    "from Bio.PDB.PDBExceptions import PDBConstructionWarning\n",
    "import freesasa\n",
    "import numpy as np\n",
    "import matplotlib.pyplot as plt\n",
    "import math\n",
    "\n",
    "import sys\n",
    "import argparse\n",
    "import warnings"
   ]
  },
  {
   "cell_type": "code",
   "execution_count": 4,
   "metadata": {},
   "outputs": [],
   "source": [
    "def parse_PDB(filepath):\n",
    "    pdb_parser = PDBParser()\n",
    "\n",
    "    with warnings.catch_warnings():\n",
    "        warnings.simplefilter('ignore', PDBConstructionWarning)\n",
    "        structure = pdb_parser.get_structure('protein', filepath)\n",
    "\n",
    "    name = structure.header['name']\n",
    "    head = structure.header['head']\n",
    "    filter_words_name = ['pilus', 'pili', 'Pilus', 'Pili', 'PILUS', 'PILI', 'virus', 'Virus', 'VIRUS']\n",
    "    filter_words_head = ['dna', 'DNA', 'rna', 'RNA']\n",
    "\n",
    "    if any(word in name for word in filter_words_name) or any(word in head for word in filter_words_head):\n",
    "        print('Given structure is either a Pilus or Virus protein or contains nucleotides.')\n",
    "        print('Will not be analysed.')\n",
    "        return None\n",
    "\n",
    "    models = [model for model in structure]\n",
    "    if len(models) > 1:\n",
    "        model_number = input(str(len(models))+\" models found. Please enter model id (1-index): \")\n",
    "        model = models[int(model_number)-1]\n",
    "    else:\n",
    "        model = models[0]\n",
    "    return model"
   ]
  },
  {
   "cell_type": "code",
   "execution_count": 58,
   "metadata": {},
   "outputs": [],
   "source": [
    "def position_model(model):\n",
    "    max_x = -100000\n",
    "    max_y = -100000\n",
    "    max_z = -100000\n",
    "    min_x = 100000\n",
    "    min_y = 100000\n",
    "    min_z = 100000\n",
    "    \n",
    "    for chain in model:\n",
    "        for residue in chain:\n",
    "            for atom in residue:\n",
    "                coordinates = atom.coord\n",
    "                if coordinates[0] > max_x: max_x = coordinates[0]\n",
    "                if coordinates[1] > max_y: max_y = coordinates[1]\n",
    "                if coordinates[2] > max_z: max_z = coordinates[2]\n",
    "                if coordinates[0] < min_x: min_x = coordinates[0]\n",
    "                if coordinates[1] < min_y: min_y = coordinates[1]\n",
    "                if coordinates[2] < min_z: min_z = coordinates[2]\n",
    "    \n",
    "    model.transform(rot=rotaxis2m(theta=0, vector=Vector(1,0,0)), \n",
    "                    tran=-0.5*np.array([max_x + min_x, max_y + min_y, max_z + min_z]))\n",
    "    return model"
   ]
  },
  {
   "cell_type": "code",
   "execution_count": 46,
   "metadata": {},
   "outputs": [
    {
     "data": {
      "text/plain": [
       "(array([0, 1, 0]), 1.5707963267948966)"
      ]
     },
     "execution_count": 46,
     "metadata": {},
     "output_type": "execute_result"
    }
   ],
   "source": [
    "def get_rotation(vector):\n",
    "    \"\"\"\n",
    "    Rotates a PDB model so that a given vector will align with [0,0,1].\n",
    "    returns rot_axis, angle in rad\n",
    "    \"\"\"\n",
    "    vector2 = np.array(vector)\n",
    "    rotation_axis = np.cross(np.array([0,0,1]), vector2)\n",
    "    angle = math.asin(  np.linalg.norm(rotation_axis) / np.linalg.norm(vector2) )\n",
    "    return rotation_axis, angle\n",
    "    \n",
    "get_rotation([1,0,0])    "
   ]
  },
  {
   "cell_type": "code",
   "execution_count": 78,
   "metadata": {},
   "outputs": [],
   "source": [
    "def get_z_bounds(model):\n",
    "    max_z = -100000\n",
    "    min_z = 100000\n",
    "    for chain in model:\n",
    "        for residue in chain:\n",
    "            for atom in residue:\n",
    "                coordinates = atom.coord\n",
    "                if coordinates[2] > max_z: max_z = coordinates[2]\n",
    "                if coordinates[2] < min_z: min_z = coordinates[2]\n",
    "    return int(np.floor(min_z)), int(np.ceil(max_z))"
   ]
  },
  {
   "cell_type": "code",
   "execution_count": 168,
   "metadata": {},
   "outputs": [
    {
     "name": "stdout",
     "output_type": "stream",
     "text": [
      "[-11.17900467  -7.24599838  21.34600067]\n",
      "[-11.17900467  -7.24599838  21.34600067]\n",
      "-25 25\n",
      "50\n"
     ]
    }
   ],
   "source": [
    "def calculate_Q(model, vector):\n",
    "    model_copy = model\n",
    "    \n",
    "    # Rotate model so that it aligns with [0,0,1]\n",
    "    rot_axis, angle = get_rotation(vector)\n",
    "    print(model_copy['A'][315]['CA'].coord)\n",
    "    model_copy.transform(rot=rotaxis2m(theta=angle, vector=Vector(rot_axis)), tran=0)\n",
    "    print(model_copy['A'][315]['CA'].coord)\n",
    "    \n",
    "    z_min, z_max = get_z_bounds(model_copy)\n",
    "    print(z_min, z_max)\n",
    "    \n",
    "    # generate slices\n",
    "    slices = make_slices(model_copy, z_min, z_max)\n",
    "    print(len(slices))\n",
    "    \n",
    "    \n",
    "    atom_radii = {'C':1.80, 'N':1.60, 'O':1.40, 'S':1.85}\n",
    "    hydrophobic = ['PHE', 'GLY', 'ILE', 'LEU', 'MET', 'VAL', 'TRP', 'TYR']\n",
    "    hydrophilic = ['ALA', 'CYS', 'ASP', 'GLU', 'ASN', 'GLN', 'HIS', 'LYS', 'PRO', 'ARG', 'SER', 'THR']\n",
    "    atom_info = {'atom_radii': atom_radii, 'hydrophobic': hydrophobic, 'hydrophilic':hydrophilic}\n",
    "    \n",
    "    \n",
    "    residue_dict = make_residue_dictionary(model)\n",
    "    \n",
    "    slice_scores = []\n",
    "    \n",
    "    for slice_height in slices.keys():\n",
    "        slice_list = slices[slice_height]\n",
    "        \n",
    "        \n",
    "        hydrophobic_factor = calc_hydrophobic_factor(slice_list, slice_height, atom_info)\n",
    "        structure_factor = calc_structure_factor(slice_list, residue_dict, np.array(vector))\n",
    "        #print(\"Slice: %s\\tAtoms: %s\\tHydro_factor: %1.3f\\tStruc_factor: %1.3f\"%\n",
    "        #      (slice_height, len(slice_list), hydrophobic_factor, structure_factor))\n",
    "        slice_scores.append(hydrophobic_factor * structure_factor)\n",
    "    return slice_scores, z_min, z_max\n",
    "    \n",
    "\n",
    "model = parse_PDB('./structures/pdb1u9j.pdb')\n",
    "model = position_model(model)\n",
    "\n",
    "slice_scores, z_min, z_max = calculate_Q(model, [0,0,1])\n",
    "    "
   ]
  },
  {
   "cell_type": "code",
   "execution_count": 173,
   "metadata": {},
   "outputs": [
    {
     "data": {
      "image/png": "[encoded data removed]",
      "text/plain": [
       "<Figure size 432x288 with 1 Axes>"
      ]
     },
     "metadata": {},
     "output_type": "display_data"
    }
   ],
   "source": [
    "plt.figure()\n",
    "plt.plot(range(z_min,z_max), slice_scores)\n",
    "plt.title('Normal vector [0,0,1]')\n",
    "plt.xlabel('z slice [A]')\n",
    "plt.ylabel('Q score for slice');"
   ]
  },
  {
   "cell_type": "code",
   "execution_count": 104,
   "metadata": {},
   "outputs": [],
   "source": [
    "def make_slices(model, z_min, z_max):\n",
    "    slices = {}\n",
    "    for i in range(z_min, z_max):\n",
    "        slices[i] = []\n",
    "    \n",
    "    for chain in model:\n",
    "        for residue in chain:\n",
    "            for atom in residue:\n",
    "                coordinates = atom.coord\n",
    "                slices[int(np.floor(atom.coord[2]))].append(atom)\n",
    "    \n",
    "    return slices"
   ]
  },
  {
   "cell_type": "code",
   "execution_count": 145,
   "metadata": {},
   "outputs": [],
   "source": [
    "def rectangle_grid(slice_list, z):\n",
    "    \"\"\"\n",
    "    makes a rect around slice with height z\n",
    "    \"\"\"\n",
    "    max_x = -1000\n",
    "    min_x = 1000\n",
    "    max_y = -1000\n",
    "    min_y = 1000\n",
    "    for atom in slice_list:\n",
    "        coordinates = atom.coord\n",
    "        if coordinates[0] > max_x: max_x = coordinates[0]\n",
    "        if coordinates[0] < min_x: min_x = coordinates[0]\n",
    "        if coordinates[1] > max_y: max_y = coordinates[1]\n",
    "        if coordinates[1] < min_y: min_y = coordinates[1]\n",
    "    \n",
    "    points = []    \n",
    "    offset = 1\n",
    "    \n",
    "    for x in np.linspace(min_x-offset, max_x+offset, max([int(len(slice_list)/3), 2])):\n",
    "        points.append(np.array([x, min_y-offset, z]))\n",
    "        points.append(np.array([x, max_y+offset, z]))\n",
    "    for y in np.linspace(min_y-offset, max_y+offset, max([int(len(slice_list)/3), 2])):\n",
    "        points.append(np.array([min_x-offset, y, z]))\n",
    "        points.append(np.array([max_x+offset, y, z]))  \n",
    "    \n",
    "    return points"
   ]
  },
  {
   "cell_type": "code",
   "execution_count": 106,
   "metadata": {},
   "outputs": [],
   "source": [
    "def get_outer_atoms(slice_list, rectangle_points):\n",
    "    outer_atoms = set()\n",
    "    outer_atom_ids = []\n",
    "    \n",
    "    for point in rectangle_points:\n",
    "        current_dists = []\n",
    "        for atom in slice_list:            \n",
    "            current_dists.append(np.linalg.norm(point-atom.coord))\n",
    "        \n",
    "        outer_atoms.add(slice_list[np.argmin(current_dists)])\n",
    "    \n",
    "    for atom in list(outer_atoms):\n",
    "        outer_atom_ids.append(atom.serial_number)\n",
    "    \n",
    "    \n",
    "    return outer_atoms, outer_atom_ids"
   ]
  },
  {
   "cell_type": "code",
   "execution_count": 117,
   "metadata": {},
   "outputs": [
    {
     "name": "stdout",
     "output_type": "stream",
     "text": [
      "-25 25\n",
      "3\n"
     ]
    }
   ],
   "source": [
    "model = parse_PDB('./structures/pdb1u9j.pdb')\n",
    "model = position_model(model)\n",
    "\n",
    "z_min, z_max = get_z_bounds(model)\n",
    "print(z_min, z_max)\n",
    "    \n",
    "\n",
    "slices = make_slices(model, z_min, z_max)\n"
   ]
  },
  {
   "cell_type": "code",
   "execution_count": 155,
   "metadata": {},
   "outputs": [
    {
     "data": {
      "text/plain": [
       "[-30, 30, -30, 30]"
      ]
     },
     "execution_count": 155,
     "metadata": {},
     "output_type": "execute_result"
    },
    {
     "data": {
      "image/png": "[encoded data removed]",
      "text/plain": [
       "<Figure size 504x504 with 1 Axes>"
      ]
     },
     "metadata": {},
     "output_type": "display_data"
    }
   ],
   "source": [
    "test_slice = -25\n",
    "\n",
    "xs = []\n",
    "ys = []\n",
    "for atom in slices[test_slice]:\n",
    "    xs.append(atom.coord[0])\n",
    "    ys.append(atom.coord[1])\n",
    "    \n",
    "\n",
    "xs_rect = []\n",
    "ys_rect = []\n",
    "points = rectangle_grid(slices[test_slice], test_slice + 0.5)\n",
    "\n",
    "for point in points:\n",
    "    xs_rect.append(point[0])\n",
    "    ys_rect.append(point[1])\n",
    "    \n",
    "    \n",
    "xs_out = []\n",
    "ys_out = []\n",
    "outer_atoms, outer_atom_ids = get_outer_atoms(slices[test_slice], points)\n",
    "\n",
    "for atom in list(outer_atoms):\n",
    "    xs_out.append(atom.coord[0])\n",
    "    ys_out.append(atom.coord[1])\n",
    "    \n",
    "    \n",
    "plt.figure(figsize=(7,7))\n",
    "plt.scatter(xs,ys, color=\"blue\")\n",
    "plt.scatter(xs_rect, ys_rect, color=\"red\")\n",
    "plt.scatter(xs_out, ys_out, color=\"green\", s = 200, alpha=0.5)\n",
    "plt.axis([-30,30,-30,30])"
   ]
  },
  {
   "cell_type": "code",
   "execution_count": 163,
   "metadata": {},
   "outputs": [],
   "source": [
    "def get_unique_residues_from_slice(slice_list):\n",
    "    ids = set()\n",
    "    for atom in slice_list:\n",
    "        if atom.parent.id[0] == ' ':\n",
    "            ids.add((atom.parent.parent.id, atom.parent.id[1]))\n",
    "    return list(ids)"
   ]
  },
  {
   "cell_type": "code",
   "execution_count": 166,
   "metadata": {},
   "outputs": [],
   "source": [
    "def calc_structure_factor(slice_list, residue_dict, vector):\n",
    "    residue_ids = get_unique_residues_from_slice(slice_list)\n",
    "    \n",
    "    straight_count = 0\n",
    "    turn_count = 0\n",
    "    endchain_count = 0\n",
    "    \n",
    "    \n",
    "    for chain, resi in residue_ids:\n",
    "        # Residue i-3\n",
    "        try:\n",
    "            prev_res = residue_dict[chain][resi-3].coord\n",
    "        except KeyError:\n",
    "            endchain_count += 1\n",
    "\n",
    "        # Residue i\n",
    "        curr_res = residue_dict[chain][resi].coord\n",
    "\n",
    "        # Residue i+3\n",
    "        try:\n",
    "            next_res = residue_dict[chain][resi+3].coord\n",
    "        except KeyError:\n",
    "            endchain_count += 1\n",
    "\n",
    "        prev_value = np.dot(vector, prev_res)\n",
    "        curr_value = np.dot(vector, curr_res)\n",
    "        next_value = np.dot(vector, next_res)\n",
    "\n",
    "        if (prev_value < curr_value and curr_value < next_value) or (prev_value > curr_value and curr_value > next_value):\n",
    "            straight_count += 1\n",
    "        else:\n",
    "            turn_count += 1\n",
    "    \n",
    "    straightness_factor = straight_count / len(residue_ids)\n",
    "    turn_factor = 1 - (turn_count / len(residue_ids))\n",
    "    endchain_factor = 1 - (endchain_count / len(residue_ids))    \n",
    "    \n",
    "    return straightness_factor * turn_factor * endchain_factor"
   ]
  },
  {
   "cell_type": "code",
   "execution_count": 161,
   "metadata": {},
   "outputs": [],
   "source": [
    "def make_residue_dictionary(model):\n",
    "    \"\"\"\n",
    "    Makes a dictionary of CA-Atoms from a model\n",
    "    dict[chain][resi] = <CA-Atom>\n",
    "    \"\"\"\n",
    "    residue_dict = {}\n",
    "    \n",
    "    for chain in model:\n",
    "        residue_dict[chain.id] = {}\n",
    "        for residue in chain:\n",
    "            if residue.id[0] == ' ':\n",
    "                residue_dict[chain.id][residue.id[1]] = residue['CA']\n",
    "    return residue_dict"
   ]
  },
  {
   "cell_type": "code",
   "execution_count": 115,
   "metadata": {},
   "outputs": [
    {
     "data": {
      "text/plain": [
       "array([-6.7060051 , -7.71899796,  0.36499786])"
      ]
     },
     "execution_count": 115,
     "metadata": {},
     "output_type": "execute_result"
    }
   ],
   "source": [
    "residue_dict['A'][319-3].coord\n",
    "residue_dict['A'][319].coord\n",
    "residue_dict['A'][319+3].coord"
   ]
  },
  {
   "cell_type": "code",
   "execution_count": 139,
   "metadata": {},
   "outputs": [
    {
     "name": "stdout",
     "output_type": "stream",
     "text": [
      "0.5216049382716049\n"
     ]
    }
   ],
   "source": [
    "straight_count = 0\n",
    "turn_count = 0\n",
    "endchain_count = 0\n",
    "\n",
    "vector = np.array([0,0,1])\n",
    "\n",
    "for chain, resi in residue_ids:\n",
    "    try:\n",
    "        prev_res = residue_dict[chain][resi-3].coord\n",
    "    except KeyError:\n",
    "        endchain_count += 1\n",
    "        \n",
    "    curr_res = residue_dict[chain][resi].coord\n",
    "    \n",
    "    try:\n",
    "        next_res = residue_dict[chain][resi+3].coord\n",
    "    except KeyError:\n",
    "        endchain_count += 1\n",
    "        \n",
    "    prev_value = np.dot(vector, prev_res)\n",
    "    curr_value = np.dot(vector, curr_res)\n",
    "    next_value = np.dot(vector, next_res)\n",
    "    \n",
    "    if (prev_value < curr_value and curr_value < next_value) or (prev_value > curr_value and curr_value > next_value):\n",
    "        straight_count += 1\n",
    "    else:\n",
    "        turn_count += 1\n",
    "\n",
    "straightness_factor = straight_count / len(residue_ids)\n",
    "turn_factor = 1 - (turn_count / len(residue_ids))\n",
    "endchain_factor = 1 - (endchain_count / len(residue_ids))\n",
    "\n",
    "structure_factor = straightness_factor * turn_factor * endchain_factor\n",
    "print(structure_factor)"
   ]
  },
  {
   "cell_type": "code",
   "execution_count": null,
   "metadata": {},
   "outputs": [],
   "source": [
    "\n",
    "\n",
    "\n",
    "\n"
   ]
  }
 ],
 "metadata": {
  "kernelspec": {
   "display_name": "Python 3",
   "language": "python",
   "name": "python3"
  },
  "language_info": {
   "codemirror_mode": {
    "name": "ipython",
    "version": 3
   },
   "file_extension": ".py",
   "mimetype": "text/x-python",
   "name": "python",
   "nbconvert_exporter": "python",
   "pygments_lexer": "ipython3",
   "version": "3.6.5"
  }
 },
 "nbformat": 4,
 "nbformat_minor": 2
}
