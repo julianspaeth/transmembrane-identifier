{
 "cells": [
  {
   "cell_type": "code",
   "execution_count": null,
   "metadata": {},
   "outputs": [],
   "source": []
  },
  {
   "cell_type": "code",
   "execution_count": null,
   "metadata": {},
   "outputs": [],
   "source": [
    "tm_helices = pd.read_csv(\"tm_helices.csv\")\n",
    "samples=len(tm_helices.axes[0])\n",
    "print(\"TM helices:\", samples)\n",
    "\n",
    "transmembrane_pdbids = tm_helices[\"PDB ID\"].unique()"
   ]
  },
  {
   "cell_type": "code",
   "execution_count": null,
   "metadata": {},
   "outputs": [],
   "source": [
    "# Download Helices\n",
    "filenames = []\n",
    "print(\"Download pdbs ...\")\n",
    "print(len(transmembrane_pdbids))                \n",
    "transmembrane_pdbids = list(transmembrane_pdbids)\n",
    "filenames = fetchPDB(transmembrane_pdbids)\n",
    "print(filenames)"
   ]
  },
  {
   "cell_type": "code",
   "execution_count": null,
   "metadata": {},
   "outputs": [],
   "source": [
    "# Parse helices\n",
    "import sys\n",
    "import pandas as pd\n",
    "import numpy as np\n",
    "from prody import *\n",
    "import random\n",
    "import csv\n",
    "import os\n",
    "import urllib.request\n",
    "print(\"Imports done\")\n",
    "\n",
    "d = {'CYS': 'C', 'ASP': 'D', 'SER': 'S', 'GLN': 'Q', 'LYS': 'K',\n",
    "     'ILE': 'I', 'PRO': 'P', 'THR': 'T', 'PHE': 'F', 'ASN': 'N', \n",
    "     'GLY': 'G', 'HIS': 'H', 'LEU': 'L', 'ARG': 'R', 'TRP': 'W', \n",
    "     'ALA': 'A', 'VAL':'V', 'GLU': 'E', 'TYR': 'Y', 'MET': 'M'}\n",
    "\n",
    "helix_sequences = []\n",
    "def parse_helices_pdb(pdb):\n",
    "    atoms, header = parsePDB(pdb, header=True)\n",
    "    helix_ranges = header.get('helix_range')\n",
    "    helix_indices = []\n",
    "    for helix_range in helix_ranges:\n",
    "        helix_chain = helix_range[1]\n",
    "        helix_indices.append([helix_chain, helix_range[4],helix_range[5]])\n",
    "    print(helix_indices)\n",
    "\n",
    "    sequence = {}\n",
    "    for atom in atoms:\n",
    "        if atom.getChid() in sequence.keys():\n",
    "            sequence.get(atom.getChid()).update({atom.getResnum() : d.get(atom.getResname())})\n",
    "        else:\n",
    "            sequence[atom.getChid()] = {atom.getResnum() : d.get(atom.getResname())}\n",
    "    for helix_index in helix_indices:\n",
    "        helix_start_coords = []\n",
    "        helix_end_coords = []\n",
    "        helix_sequence = \"\"\n",
    "        helix_start = helix_index[1]\n",
    "        helix_end = helix_index[2]\n",
    "        for key in range(helix_start,helix_end+1):\n",
    "            try:\n",
    "                helix_sequence = helix_sequence+sequence.get(helix_index[0]).get(key)\n",
    "            except:\n",
    "                continue\n",
    "        helix_start_coords = list(atoms[helix_chain, helix_start][\"CA\"].getCoords())\n",
    "        helix_end_coords = list(atoms[helix_chain, helix_end][\"CA\"].getCoords())\n",
    "        helix = [header.get(\"identifier\"), helix_chain, helix_start, helix_end, helix_start_coords, helix_end_coords, helix_end-helix_start, helix_sequence, \"NaN\"]    \n",
    "        helix_sequences.append(helix)\n",
    "    return helix_sequences\n",
    "\n",
    "issues = []\n",
    "path=\"./pdbtm_pdb/\"\n",
    "path=\"./test/\"\n",
    "#path=\"./\"\n",
    "for file in os.listdir(path):\n",
    "    if file.endswith(\".gz\"):\n",
    "        parse_helices_pdb(path+file)\n",
    "\n",
    "print(issues)\n",
    "columns = [\"PDB ID\", \"Chain\", \"Helix Start\", \"Helix End\", \"Helix Start CA\", \"Helix End CA\", \"Helix Length\", \"Helix Sequence\", \"Is Transmembrane\"]\n",
    "print(pd.DataFrame(helix_sequences, columns=columns))\n",
    "print(\"FINISHED!\")"
   ]
  },
  {
   "cell_type": "code",
   "execution_count": null,
   "metadata": {},
   "outputs": [],
   "source": [
    "df_helices = pd.DataFrame(helix_sequences, columns=columns)\n",
    "print(df_helices)"
   ]
  },
  {
   "cell_type": "code",
   "execution_count": null,
   "metadata": {},
   "outputs": [],
   "source": [
    "df_helices = df_helices.drop_duplicates()\n",
    "df_helices.to_csv(\"helices.csv\", sep=',', encoding='utf-8', index=False)"
   ]
  },
  {
   "cell_type": "code",
   "execution_count": null,
   "metadata": {},
   "outputs": [],
   "source": []
  },
  {
   "cell_type": "code",
   "execution_count": null,
   "metadata": {},
   "outputs": [],
   "source": []
  }
 ],
 "metadata": {
  "kernelspec": {
   "display_name": "Python 3",
   "language": "python",
   "name": "python3"
  },
  "language_info": {
   "codemirror_mode": {
    "name": "ipython",
    "version": 3
   },
   "file_extension": ".py",
   "mimetype": "text/x-python",
   "name": "python",
   "nbconvert_exporter": "python",
   "pygments_lexer": "ipython3",
   "version": "3.6.5"
  }
 },
 "nbformat": 4,
 "nbformat_minor": 2
}
