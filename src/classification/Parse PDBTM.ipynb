{
 "cells": [
  {
   "cell_type": "code",
   "execution_count": 5,
   "metadata": {},
   "outputs": [],
   "source": [
    "import xml.etree.ElementTree as ET\n",
    "\n",
    "class PDBTM:\n",
    "    def __init__(self, id = str, chains = []): \n",
    "        self.id = id\n",
    "        self.chains = chains\n",
    "    \n",
    "class Chain:\n",
    "    def __init__(self, id = str, num_tm = int, typ = str, seq = str, regions = []): \n",
    "        self.id = id\n",
    "        self.num_tm = num_tm\n",
    "        self.typ = typ\n",
    "        self.seq = seq\n",
    "        self.regions = regions\n",
    "    \n",
    "class Region:\n",
    "    def __init__(self, seq_beg = int, pdb_beg = int, seq_end = int, pdb_end = int, typ = str):\n",
    "        self.seq_beg = seq_beg\n",
    "        self.pdb_beg = pdb_beg\n",
    "        self.seq_end = seq_end\n",
    "        self.pdb_end = pdb_end\n",
    "        self.typ = typ"
   ]
  },
  {
   "cell_type": "code",
   "execution_count": 6,
   "metadata": {},
   "outputs": [],
   "source": [
    "import os\n",
    "from shutil import copyfile\n",
    "\n",
    "def filter_for_tmps(path):\n",
    "    counter = 0\n",
    "    for root, dirs, files in os.walk(path):\n",
    "        for name in files:\n",
    "            if name.endswith(\".xml\"): \n",
    "                path = os.path.join(root,name)\n",
    "                pdbtm_xml = ET.parse(path) \n",
    "                pdbtm_root = pdbtm_xml.getroot()\n",
    "                is_tmp = pdbtm_root.attrib.get('TMP')\n",
    "                if is_tmp == 'yes':\n",
    "                    print(\"Copy\", pdbtm_root.attrib.get(\"ID\"))\n",
    "                    copyfile(path, os.path.join(\"pdbtm_xmls\",name))\n",
    "                    counter = counter + 1\n",
    "                        \n",
    "    return counter\n",
    "                \n",
    "#number_of_tms = filter_for_tmps(\"pdbtm/database\")    \n",
    "#print(number_of_tms)"
   ]
  },
  {
   "cell_type": "code",
   "execution_count": 7,
   "metadata": {},
   "outputs": [],
   "source": [
    "def parse_pdbtm_xmls(paths):\n",
    "    '''\n",
    "    Parses PDBTM XML files to a list od PDBTM Objects.\n",
    "    A PDBTM Object contains the PDB ID as well as a list of Chain objects. \n",
    "    A Chain Object contains the chain ID, the tm number, the type, the sequence and a list of Region objects.\n",
    "    A Region object contains the begin and end indices of the sequence and the pdb file, as well as the type.\n",
    "    '''\n",
    "    ns = {'pdbtm': 'http://pdbtm.enzim.hu'}\n",
    "    pdbtms = []\n",
    "    for path in paths:\n",
    "        pdbtm_xml = ET.parse(path) \n",
    "        pdbtm_root = pdbtm_xml.getroot()\n",
    "        pdbtm_id = pdbtm_root.attrib.get('ID')\n",
    "        \n",
    "        if pdbtm_root.attrib.get('TMP') == 'yes':\n",
    "            chains = []\n",
    "            for chain_xml in pdbtm_root.findall('pdbtm:CHAIN', ns):\n",
    "                chain_id = chain_xml.attrib.get('CHAINID')\n",
    "                num_tm = chain_xml.attrib.get('NUM_TM')\n",
    "                typ = chain_xml.attrib.get('TYPE')\n",
    "                seq = chain_xml.find('pdbtm:SEQ', ns)\n",
    "\n",
    "                regions = []\n",
    "                for region_xml in chain_xml.findall('pdbtm:REGION', ns):\n",
    "                    seq_beg = region_xml.attrib.get('seq_beg')\n",
    "                    pdb_beg = region_xml.attrib.get('pdb_beg')\n",
    "                    seq_end = region_xml.attrib.get('seq_end')\n",
    "                    pdb_end = region_xml.attrib.get('pdb_end')\n",
    "                    typ_region = region_xml.attrib.get('type')\n",
    "                    region = Region(seq_beg, pdb_beg, seq_end, pdb_end, typ_region)\n",
    "                    regions.append(region)\n",
    "            chain = Chain(chain_id, num_tm, typ, seq.text.replace(\" \", \"\").replace(\"\\n\", \"\"), regions)\n",
    "            chains.append(chain) \n",
    "\n",
    "            pdbtm = PDBTM(pdbtm_id, chains)\n",
    "            pdbtms.append(pdbtm)\n",
    "        \n",
    "        else:\n",
    "            print(pdbtm_id, \"is no TMP and was ignored.\")\n",
    "    \n",
    "    return pdbtms"
   ]
  },
  {
   "cell_type": "code",
   "execution_count": 8,
   "metadata": {},
   "outputs": [],
   "source": [
    "paths = []\n",
    "for file in os.listdir(\"pdbtm_xmls\"):\n",
    "    if file.endswith(\".xml\"):\n",
    "        path = os.path.join(\"pdbtm_xmls\", file)\n",
    "        paths.append(path.strip())\n",
    "        \n",
    "pdbtms = parse_pdbtm_xmls(paths)"
   ]
  },
  {
   "cell_type": "code",
   "execution_count": 9,
   "metadata": {},
   "outputs": [],
   "source": [
    "helix_pdbtms = []\n",
    "for pdbtm in pdbtms:\n",
    "    for chain in pdbtm.chains:\n",
    "        if chain.typ == \"alpha\":\n",
    "            for region in chain.regions:\n",
    "                if region.typ == \"H\":\n",
    "                    helix = chain.seq[int(region.seq_beg):int(region.seq_end)]\n",
    "                    helix_pdbtms.append(helix)"
   ]
  },
  {
   "cell_type": "code",
   "execution_count": 10,
   "metadata": {},
   "outputs": [],
   "source": [
    "import collections\n",
    "pdbtm_helices_aas = collections.Counter()\n",
    "for helix in helix_pdbtms:\n",
    "    pdbtm_helices_aas = pdbtm_helices_aas + collections.Counter(helix)"
   ]
  },
  {
   "cell_type": "code",
   "execution_count": 47,
   "metadata": {},
   "outputs": [
    {
     "data": {
      "text/plain": [
       "<function matplotlib.pyplot.show(*args, **kw)>"
      ]
     },
     "execution_count": 47,
     "metadata": {},
     "output_type": "execute_result"
    },
    {
     "data": {
      "image/png": "[encoded data removed]",
      "text/plain": [
       "<Figure size 432x288 with 1 Axes>"
      ]
     },
     "metadata": {},
     "output_type": "display_data"
    },
    {
     "data": {
      "image/png": "[encoded data removed]",
      "text/plain": [
       "<Figure size 432x288 with 1 Axes>"
      ]
     },
     "metadata": {},
     "output_type": "display_data"
    },
    {
     "data": {
      "image/png": "[encoded data removed]",
      "text/plain": [
       "<Figure size 432x288 with 1 Axes>"
      ]
     },
     "metadata": {},
     "output_type": "display_data"
    },
    {
     "data": {
      "image/png": "[encoded data removed]",
      "text/plain": [
       "<Figure size 432x288 with 1 Axes>"
      ]
     },
     "metadata": {},
     "output_type": "display_data"
    }
   ],
   "source": [
    "import matplotlib.pyplot as plt\n",
    "import operator\n",
    "\n",
    "#number_of_aas = 0\n",
    "#for key in pdbtm_helices_aas.keys():\n",
    "#    number_of_aas = number_of_aas + pdbtm_helices_aas.get(key)\n",
    "    \n",
    "#percentage = {}\n",
    "#for key in pdbtm_helices_aas.keys():\n",
    "#    percentage[key] = round(pdbtm_helices_aas.get(key)/number_of_aas*100,2)\n",
    "\n",
    "amino_acids_tm_helices = {\n",
    "    'L': 16.52,\n",
    "    'A': 11.39,\n",
    "    'I': 11.14,\n",
    "    'V': 11.12,\n",
    "    'G': 8.3,\n",
    "    'F': 8.27,\n",
    "    'T': 5.21,\n",
    "    'S': 5.0,\n",
    "    'M': 3.66,\n",
    "    'Y': 3.59,\n",
    "    'W': 2.55,\n",
    "    'P': 2.48,\n",
    "    'N': 1.91,\n",
    "    'C': 1.51,\n",
    "    'R': 1.48,\n",
    "    'Q': 1.23,\n",
    "    'E': 1.21,\n",
    "    'D': 1.09,\n",
    "    'K': 1.08,\n",
    "    'H': 0.7,\n",
    "    'U': 0.55}\n",
    "\n",
    "f1 = plt.figure()\n",
    "plt.bar(range(len(amino_acids_tm_helices)), list(amino_acids_tm_helices.values()), align='center', color='red')\n",
    "plt.title(\"Amino Acid Frequency in Transmembrane Helices\")\n",
    "plt.xticks(range(len(amino_acids_tm_helices)), list(amino_acids_tm_helices.keys()))\n",
    "plt.xlabel(\"Amino Acids\")\n",
    "plt.ylabel(\"Frequency\")\n",
    "f1.savefig('aa_tm_helix_frequency.pdf')\n",
    "plt.ylim([0,20])\n",
    "plt.show   \n",
    "\n",
    "amino_acids_helices = {\n",
    "    \"L\" : 11.2,\n",
    "    \"A\" : 10.7,\n",
    "    \"E\" : 8.0,\n",
    "    \"V\" : 7.1,\n",
    "    \"I\" : 6.0,\n",
    "    \"K\" : 5.9,\n",
    "    \"R\" : 5.9,\n",
    "    \"S\" : 5.4,\n",
    "    \"G\" : 5.2,\n",
    "    \"D\" : 5.0,\n",
    "    \"T\" : 4.7,\n",
    "    \"F\" : 4.1,\n",
    "    \"Q\" : 4.0,\n",
    "    \"Y\" : 3.3,\n",
    "    \"N\" : 3.2,\n",
    "    \"M\" : 2.9,\n",
    "    \"P\" : 2.6,\n",
    "    \"H\" : 2.0,\n",
    "    \"W\" : 1.4,\n",
    "    \"C\" : 1.4\n",
    "} \n",
    "\n",
    "f2 = plt.figure()\n",
    "plt.bar(range(len(amino_acids_helices)), list(amino_acids_helices.values()), align='center', color='darkblue')\n",
    "plt.title(\"Amino Acid Frequency in Helices\")\n",
    "plt.xticks(range(len(amino_acids_helices)), list(amino_acids_helices.keys()))\n",
    "plt.xlabel(\"Amino Acids\")\n",
    "plt.ylabel(\"Frequency\")\n",
    "plt.ylim([0,20])\n",
    "f2.savefig('aa_helix_frequency.pdf')\n",
    "plt.show   \n",
    "\n",
    "f3 = plt.figure()\n",
    "plt.bar(range(len(amino_acids_helices)), list(amino_acids_helices.values()), align='center', color='darkblue')\n",
    "plt.bar(range(len(amino_acids_tm_helices)), list(amino_acids_tm_helices.values()), align='center', color='red')\n",
    "plt.xticks(range(len(amino_acids_tm_helices)), list(amino_acids_tm_helices.keys()))\n",
    "plt.title(\"Comparison of Amino Acid Frequency\")\n",
    "plt.legend([\"Helices\", \"Transmembrane Helices\"])\n",
    "plt.xlabel(\"Amino Acids\")\n",
    "plt.ylabel(\"Frequency\")\n",
    "plt.ylim([0,20])\n",
    "f3.savefig('comparison_tm_back.pdf')\n",
    "plt.show  \n",
    "\n",
    "f4 = plt.figure()\n",
    "plt.bar(range(len(amino_acids_tm_helices)), list(amino_acids_tm_helices.values()), align='center', color='red')\n",
    "plt.bar(range(len(amino_acids_helices)), list(amino_acids_helices.values()), align='center', color='darkblue')\n",
    "plt.xticks(range(len(amino_acids_tm_helices)), list(amino_acids_tm_helices.keys()))\n",
    "plt.title(\"Comparison of Amino Acid Frequency\")\n",
    "plt.legend([\"Helices\", \"Transmembrane Helices\"])\n",
    "plt.xlabel(\"Amino Acids\")\n",
    "plt.ylabel(\"Frequency\")\n",
    "plt.ylim([0,20])\n",
    "f4.savefig(figures'comparison_tm_front.pdf')\n",
    "plt.show  "
   ]
  },
  {
   "cell_type": "code",
   "execution_count": null,
   "metadata": {},
   "outputs": [],
   "source": []
  }
 ],
 "metadata": {
  "kernelspec": {
   "display_name": "Python 3",
   "language": "python",
   "name": "python3"
  },
  "language_info": {
   "codemirror_mode": {
    "name": "ipython",
    "version": 3
   },
   "file_extension": ".py",
   "mimetype": "text/x-python",
   "name": "python",
   "nbconvert_exporter": "python",
   "pygments_lexer": "ipython3",
   "version": "3.6.5"
  }
 },
 "nbformat": 4,
 "nbformat_minor": 2
}
